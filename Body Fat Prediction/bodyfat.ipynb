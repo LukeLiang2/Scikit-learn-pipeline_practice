{
 "cells": [
  {
   "cell_type": "code",
   "execution_count": 1,
   "id": "353c3a65-3f1c-4b6e-8a2b-ad552dcfdad0",
   "metadata": {},
   "outputs": [
    {
     "name": "stdout",
     "output_type": "stream",
     "text": [
      "Density    float64\n",
      "BodyFat    float64\n",
      "Age          int64\n",
      "Weight     float64\n",
      "Height     float64\n",
      "Neck       float64\n",
      "Chest      float64\n",
      "Abdomen    float64\n",
      "Hip        float64\n",
      "Thigh      float64\n",
      "Knee       float64\n",
      "Ankle      float64\n",
      "Biceps     float64\n",
      "Forearm    float64\n",
      "Wrist      float64\n",
      "dtype: object\n"
     ]
    },
    {
     "data": {
      "text/html": [
       "<div>\n",
       "<style scoped>\n",
       "    .dataframe tbody tr th:only-of-type {\n",
       "        vertical-align: middle;\n",
       "    }\n",
       "\n",
       "    .dataframe tbody tr th {\n",
       "        vertical-align: top;\n",
       "    }\n",
       "\n",
       "    .dataframe thead th {\n",
       "        text-align: right;\n",
       "    }\n",
       "</style>\n",
       "<table border=\"1\" class=\"dataframe\">\n",
       "  <thead>\n",
       "    <tr style=\"text-align: right;\">\n",
       "      <th></th>\n",
       "      <th>Density</th>\n",
       "      <th>BodyFat</th>\n",
       "      <th>Age</th>\n",
       "      <th>Weight</th>\n",
       "      <th>Height</th>\n",
       "      <th>Neck</th>\n",
       "      <th>Chest</th>\n",
       "      <th>Abdomen</th>\n",
       "      <th>Hip</th>\n",
       "      <th>Thigh</th>\n",
       "      <th>Knee</th>\n",
       "      <th>Ankle</th>\n",
       "      <th>Biceps</th>\n",
       "      <th>Forearm</th>\n",
       "      <th>Wrist</th>\n",
       "    </tr>\n",
       "  </thead>\n",
       "  <tbody>\n",
       "    <tr>\n",
       "      <th>0</th>\n",
       "      <td>1.0708</td>\n",
       "      <td>12.3</td>\n",
       "      <td>23</td>\n",
       "      <td>154.25</td>\n",
       "      <td>67.75</td>\n",
       "      <td>36.2</td>\n",
       "      <td>93.1</td>\n",
       "      <td>85.2</td>\n",
       "      <td>94.5</td>\n",
       "      <td>59.0</td>\n",
       "      <td>37.3</td>\n",
       "      <td>21.9</td>\n",
       "      <td>32.0</td>\n",
       "      <td>27.4</td>\n",
       "      <td>17.1</td>\n",
       "    </tr>\n",
       "    <tr>\n",
       "      <th>1</th>\n",
       "      <td>1.0853</td>\n",
       "      <td>6.1</td>\n",
       "      <td>22</td>\n",
       "      <td>173.25</td>\n",
       "      <td>72.25</td>\n",
       "      <td>38.5</td>\n",
       "      <td>93.6</td>\n",
       "      <td>83.0</td>\n",
       "      <td>98.7</td>\n",
       "      <td>58.7</td>\n",
       "      <td>37.3</td>\n",
       "      <td>23.4</td>\n",
       "      <td>30.5</td>\n",
       "      <td>28.9</td>\n",
       "      <td>18.2</td>\n",
       "    </tr>\n",
       "    <tr>\n",
       "      <th>2</th>\n",
       "      <td>1.0414</td>\n",
       "      <td>25.3</td>\n",
       "      <td>22</td>\n",
       "      <td>154.00</td>\n",
       "      <td>66.25</td>\n",
       "      <td>34.0</td>\n",
       "      <td>95.8</td>\n",
       "      <td>87.9</td>\n",
       "      <td>99.2</td>\n",
       "      <td>59.6</td>\n",
       "      <td>38.9</td>\n",
       "      <td>24.0</td>\n",
       "      <td>28.8</td>\n",
       "      <td>25.2</td>\n",
       "      <td>16.6</td>\n",
       "    </tr>\n",
       "  </tbody>\n",
       "</table>\n",
       "</div>"
      ],
      "text/plain": [
       "   Density  BodyFat  Age  Weight  Height  Neck  Chest  Abdomen   Hip  Thigh  \\\n",
       "0   1.0708     12.3   23  154.25   67.75  36.2   93.1     85.2  94.5   59.0   \n",
       "1   1.0853      6.1   22  173.25   72.25  38.5   93.6     83.0  98.7   58.7   \n",
       "2   1.0414     25.3   22  154.00   66.25  34.0   95.8     87.9  99.2   59.6   \n",
       "\n",
       "   Knee  Ankle  Biceps  Forearm  Wrist  \n",
       "0  37.3   21.9    32.0     27.4   17.1  \n",
       "1  37.3   23.4    30.5     28.9   18.2  \n",
       "2  38.9   24.0    28.8     25.2   16.6  "
      ]
     },
     "execution_count": 1,
     "metadata": {},
     "output_type": "execute_result"
    }
   ],
   "source": [
    "#Read dataset\n",
    "import pandas as pd; import numpy as np; from matplotlib import pyplot as plt\n",
    "df = pd.read_csv('bodyfat.csv')\n",
    "print(df.dtypes)\n",
    "df.head(3)"
   ]
  },
  {
   "cell_type": "code",
   "execution_count": null,
   "id": "50308412-3cee-41b2-aa47-231ac9a00e0d",
   "metadata": {},
   "outputs": [],
   "source": []
  },
  {
   "cell_type": "code",
   "execution_count": null,
   "id": "45fe7176-719e-41a7-92e1-e323d14e65ec",
   "metadata": {},
   "outputs": [],
   "source": [
    "#let me check normality first"
   ]
  },
  {
   "cell_type": "code",
   "execution_count": 2,
   "id": "b4738ebc-f3f0-4c23-b913-37719902941d",
   "metadata": {},
   "outputs": [
    {
     "data": {
      "image/png": "[encoded data removed]",
      "text/plain": [
       "<Figure size 432x288 with 16 Axes>"
      ]
     },
     "metadata": {
      "needs_background": "light"
     },
     "output_type": "display_data"
    }
   ],
   "source": [
    "df.hist(bins=30)\n",
    "plt.show()"
   ]
  },
  {
   "cell_type": "code",
   "execution_count": 3,
   "id": "040d334c-75da-4f96-bca9-17de1d59144d",
   "metadata": {},
   "outputs": [
    {
     "name": "stderr",
     "output_type": "stream",
     "text": [
      "/Users/0080ff/opt/anaconda3/lib/python3.8/site-packages/statsmodels/graphics/gofplots.py:993: UserWarning: marker is redundantly defined by the 'marker' keyword argument and the fmt string \"bo\" (-> marker='o'). The keyword argument will take precedence.\n",
      "  ax.plot(x, y, fmt, **plot_style)\n"
     ]
    },
    {
     "data": {
      "image/png": "[encoded data removed]",
      "text/plain": [
       "<Figure size 432x288 with 1 Axes>"
      ]
     },
     "metadata": {
      "needs_background": "light"
     },
     "output_type": "display_data"
    },
    {
     "name": "stderr",
     "output_type": "stream",
     "text": [
      "/Users/0080ff/opt/anaconda3/lib/python3.8/site-packages/statsmodels/graphics/gofplots.py:993: UserWarning: marker is redundantly defined by the 'marker' keyword argument and the fmt string \"bo\" (-> marker='o'). The keyword argument will take precedence.\n",
      "  ax.plot(x, y, fmt, **plot_style)\n"
     ]
    },
    {
     "data": {
      "image/png": "[encoded data removed]",
      "text/plain": [
       "<Figure size 432x288 with 1 Axes>"
      ]
     },
     "metadata": {
      "needs_background": "light"
     },
     "output_type": "display_data"
    },
    {
     "name": "stderr",
     "output_type": "stream",
     "text": [
      "/Users/0080ff/opt/anaconda3/lib/python3.8/site-packages/statsmodels/graphics/gofplots.py:993: UserWarning: marker is redundantly defined by the 'marker' keyword argument and the fmt string \"bo\" (-> marker='o'). The keyword argument will take precedence.\n",
      "  ax.plot(x, y, fmt, **plot_style)\n"
     ]
    },
    {
     "data": {
      "image/png": "[encoded data removed]",
      "text/plain": [
       "<Figure size 432x288 with 1 Axes>"
      ]
     },
     "metadata": {
      "needs_background": "light"
     },
     "output_type": "display_data"
    },
    {
     "name": "stderr",
     "output_type": "stream",
     "text": [
      "/Users/0080ff/opt/anaconda3/lib/python3.8/site-packages/statsmodels/graphics/gofplots.py:993: UserWarning: marker is redundantly defined by the 'marker' keyword argument and the fmt string \"bo\" (-> marker='o'). The keyword argument will take precedence.\n",
      "  ax.plot(x, y, fmt, **plot_style)\n"
     ]
    },
    {
     "data": {
      "image/png": "[encoded data removed]",
      "text/plain": [
       "<Figure size 432x288 with 1 Axes>"
      ]
     },
     "metadata": {
      "needs_background": "light"
     },
     "output_type": "display_data"
    },
    {
     "name": "stderr",
     "output_type": "stream",
     "text": [
      "/Users/0080ff/opt/anaconda3/lib/python3.8/site-packages/statsmodels/graphics/gofplots.py:993: UserWarning: marker is redundantly defined by the 'marker' keyword argument and the fmt string \"bo\" (-> marker='o'). The keyword argument will take precedence.\n",
      "  ax.plot(x, y, fmt, **plot_style)\n"
     ]
    },
    {
     "data": {
      "image/png": "[encoded data removed]",
      "text/plain": [
       "<Figure size 432x288 with 1 Axes>"
      ]
     },
     "metadata": {
      "needs_background": "light"
     },
     "output_type": "display_data"
    },
    {
     "name": "stderr",
     "output_type": "stream",
     "text": [
      "/Users/0080ff/opt/anaconda3/lib/python3.8/site-packages/statsmodels/graphics/gofplots.py:993: UserWarning: marker is redundantly defined by the 'marker' keyword argument and the fmt string \"bo\" (-> marker='o'). The keyword argument will take precedence.\n",
      "  ax.plot(x, y, fmt, **plot_style)\n"
     ]
    },
    {
     "data": {
      "image/png": "[encoded data removed]",
      "text/plain": [
       "<Figure size 432x288 with 1 Axes>"
      ]
     },
     "metadata": {
      "needs_background": "light"
     },
     "output_type": "display_data"
    },
    {
     "name": "stderr",
     "output_type": "stream",
     "text": [
      "/Users/0080ff/opt/anaconda3/lib/python3.8/site-packages/statsmodels/graphics/gofplots.py:993: UserWarning: marker is redundantly defined by the 'marker' keyword argument and the fmt string \"bo\" (-> marker='o'). The keyword argument will take precedence.\n",
      "  ax.plot(x, y, fmt, **plot_style)\n"
     ]
    },
    {
     "data": {
      "image/png": "[encoded data removed]",
      "text/plain": [
       "<Figure size 432x288 with 1 Axes>"
      ]
     },
     "metadata": {
      "needs_background": "light"
     },
     "output_type": "display_data"
    },
    {
     "name": "stderr",
     "output_type": "stream",
     "text": [
      "/Users/0080ff/opt/anaconda3/lib/python3.8/site-packages/statsmodels/graphics/gofplots.py:993: UserWarning: marker is redundantly defined by the 'marker' keyword argument and the fmt string \"bo\" (-> marker='o'). The keyword argument will take precedence.\n",
      "  ax.plot(x, y, fmt, **plot_style)\n"
     ]
    },
    {
     "data": {
      "image/png": "[encoded data removed]",
      "text/plain": [
       "<Figure size 432x288 with 1 Axes>"
      ]
     },
     "metadata": {
      "needs_background": "light"
     },
     "output_type": "display_data"
    },
    {
     "name": "stderr",
     "output_type": "stream",
     "text": [
      "/Users/0080ff/opt/anaconda3/lib/python3.8/site-packages/statsmodels/graphics/gofplots.py:993: UserWarning: marker is redundantly defined by the 'marker' keyword argument and the fmt string \"bo\" (-> marker='o'). The keyword argument will take precedence.\n",
      "  ax.plot(x, y, fmt, **plot_style)\n"
     ]
    },
    {
     "data": {
      "image/png": "[encoded data removed]",
      "text/plain": [
       "<Figure size 432x288 with 1 Axes>"
      ]
     },
     "metadata": {
      "needs_background": "light"
     },
     "output_type": "display_data"
    },
    {
     "name": "stderr",
     "output_type": "stream",
     "text": [
      "/Users/0080ff/opt/anaconda3/lib/python3.8/site-packages/statsmodels/graphics/gofplots.py:993: UserWarning: marker is redundantly defined by the 'marker' keyword argument and the fmt string \"bo\" (-> marker='o'). The keyword argument will take precedence.\n",
      "  ax.plot(x, y, fmt, **plot_style)\n"
     ]
    },
    {
     "data": {
      "image/png": "[encoded data removed]",
      "text/plain": [
       "<Figure size 432x288 with 1 Axes>"
      ]
     },
     "metadata": {
      "needs_background": "light"
     },
     "output_type": "display_data"
    },
    {
     "name": "stderr",
     "output_type": "stream",
     "text": [
      "/Users/0080ff/opt/anaconda3/lib/python3.8/site-packages/statsmodels/graphics/gofplots.py:993: UserWarning: marker is redundantly defined by the 'marker' keyword argument and the fmt string \"bo\" (-> marker='o'). The keyword argument will take precedence.\n",
      "  ax.plot(x, y, fmt, **plot_style)\n"
     ]
    },
    {
     "data": {
      "image/png": "[encoded data removed]",
      "text/plain": [
       "<Figure size 432x288 with 1 Axes>"
      ]
     },
     "metadata": {
      "needs_background": "light"
     },
     "output_type": "display_data"
    },
    {
     "name": "stderr",
     "output_type": "stream",
     "text": [
      "/Users/0080ff/opt/anaconda3/lib/python3.8/site-packages/statsmodels/graphics/gofplots.py:993: UserWarning: marker is redundantly defined by the 'marker' keyword argument and the fmt string \"bo\" (-> marker='o'). The keyword argument will take precedence.\n",
      "  ax.plot(x, y, fmt, **plot_style)\n"
     ]
    },
    {
     "data": {
      "image/png": "[encoded data removed]",
      "text/plain": [
       "<Figure size 432x288 with 1 Axes>"
      ]
     },
     "metadata": {
      "needs_background": "light"
     },
     "output_type": "display_data"
    },
    {
     "name": "stderr",
     "output_type": "stream",
     "text": [
      "/Users/0080ff/opt/anaconda3/lib/python3.8/site-packages/statsmodels/graphics/gofplots.py:993: UserWarning: marker is redundantly defined by the 'marker' keyword argument and the fmt string \"bo\" (-> marker='o'). The keyword argument will take precedence.\n",
      "  ax.plot(x, y, fmt, **plot_style)\n"
     ]
    },
    {
     "data": {
      "image/png": "[encoded data removed]",
      "text/plain": [
       "<Figure size 432x288 with 1 Axes>"
      ]
     },
     "metadata": {
      "needs_background": "light"
     },
     "output_type": "display_data"
    },
    {
     "name": "stderr",
     "output_type": "stream",
     "text": [
      "/Users/0080ff/opt/anaconda3/lib/python3.8/site-packages/statsmodels/graphics/gofplots.py:993: UserWarning: marker is redundantly defined by the 'marker' keyword argument and the fmt string \"bo\" (-> marker='o'). The keyword argument will take precedence.\n",
      "  ax.plot(x, y, fmt, **plot_style)\n"
     ]
    },
    {
     "data": {
      "image/png": "[encoded data removed]",
      "text/plain": [
       "<Figure size 432x288 with 1 Axes>"
      ]
     },
     "metadata": {
      "needs_background": "light"
     },
     "output_type": "display_data"
    },
    {
     "name": "stderr",
     "output_type": "stream",
     "text": [
      "/Users/0080ff/opt/anaconda3/lib/python3.8/site-packages/statsmodels/graphics/gofplots.py:993: UserWarning: marker is redundantly defined by the 'marker' keyword argument and the fmt string \"bo\" (-> marker='o'). The keyword argument will take precedence.\n",
      "  ax.plot(x, y, fmt, **plot_style)\n"
     ]
    },
    {
     "data": {
      "image/png": "[encoded data removed]",
      "text/plain": [
       "<Figure size 432x288 with 1 Axes>"
      ]
     },
     "metadata": {
      "needs_background": "light"
     },
     "output_type": "display_data"
    }
   ],
   "source": [
    "from statsmodels.graphics.gofplots import qqplot\n",
    "for i in df.columns:\n",
    "    qqplot(df[i], line='s',marker='o')\n",
    "    plt.show()"
   ]
  },
  {
   "cell_type": "code",
   "execution_count": 4,
   "id": "5dda7e1e-9ecf-4c3b-831a-62feefbd132b",
   "metadata": {},
   "outputs": [
    {
     "data": {
      "text/html": [
       "<div>\n",
       "<style scoped>\n",
       "    .dataframe tbody tr th:only-of-type {\n",
       "        vertical-align: middle;\n",
       "    }\n",
       "\n",
       "    .dataframe tbody tr th {\n",
       "        vertical-align: top;\n",
       "    }\n",
       "\n",
       "    .dataframe thead th {\n",
       "        text-align: right;\n",
       "    }\n",
       "</style>\n",
       "<table border=\"1\" class=\"dataframe\">\n",
       "  <thead>\n",
       "    <tr style=\"text-align: right;\">\n",
       "      <th></th>\n",
       "      <th>W</th>\n",
       "      <th>pval</th>\n",
       "      <th>normal</th>\n",
       "    </tr>\n",
       "  </thead>\n",
       "  <tbody>\n",
       "    <tr>\n",
       "      <th>Density</th>\n",
       "      <td>1.189386</td>\n",
       "      <td>5.517320e-01</td>\n",
       "      <td>True</td>\n",
       "    </tr>\n",
       "    <tr>\n",
       "      <th>BodyFat</th>\n",
       "      <td>2.360106</td>\n",
       "      <td>3.072624e-01</td>\n",
       "      <td>True</td>\n",
       "    </tr>\n",
       "    <tr>\n",
       "      <th>Age</th>\n",
       "      <td>5.992406</td>\n",
       "      <td>4.997648e-02</td>\n",
       "      <td>False</td>\n",
       "    </tr>\n",
       "    <tr>\n",
       "      <th>Weight</th>\n",
       "      <td>78.280610</td>\n",
       "      <td>1.003648e-17</td>\n",
       "      <td>False</td>\n",
       "    </tr>\n",
       "    <tr>\n",
       "      <th>Height</th>\n",
       "      <td>320.733684</td>\n",
       "      <td>2.257176e-70</td>\n",
       "      <td>False</td>\n",
       "    </tr>\n",
       "    <tr>\n",
       "      <th>Neck</th>\n",
       "      <td>32.096843</td>\n",
       "      <td>1.072159e-07</td>\n",
       "      <td>False</td>\n",
       "    </tr>\n",
       "    <tr>\n",
       "      <th>Chest</th>\n",
       "      <td>23.211955</td>\n",
       "      <td>9.111460e-06</td>\n",
       "      <td>False</td>\n",
       "    </tr>\n",
       "    <tr>\n",
       "      <th>Abdomen</th>\n",
       "      <td>40.768975</td>\n",
       "      <td>1.403232e-09</td>\n",
       "      <td>False</td>\n",
       "    </tr>\n",
       "    <tr>\n",
       "      <th>Hip</th>\n",
       "      <td>103.059007</td>\n",
       "      <td>4.178505e-23</td>\n",
       "      <td>False</td>\n",
       "    </tr>\n",
       "    <tr>\n",
       "      <th>Thigh</th>\n",
       "      <td>43.188203</td>\n",
       "      <td>4.186017e-10</td>\n",
       "      <td>False</td>\n",
       "    </tr>\n",
       "    <tr>\n",
       "      <th>Knee</th>\n",
       "      <td>17.232839</td>\n",
       "      <td>1.811075e-04</td>\n",
       "      <td>False</td>\n",
       "    </tr>\n",
       "    <tr>\n",
       "      <th>Ankle</th>\n",
       "      <td>154.112201</td>\n",
       "      <td>3.427369e-34</td>\n",
       "      <td>False</td>\n",
       "    </tr>\n",
       "    <tr>\n",
       "      <th>Biceps</th>\n",
       "      <td>5.735075</td>\n",
       "      <td>5.683871e-02</td>\n",
       "      <td>True</td>\n",
       "    </tr>\n",
       "    <tr>\n",
       "      <th>Forearm</th>\n",
       "      <td>7.160271</td>\n",
       "      <td>2.787192e-02</td>\n",
       "      <td>False</td>\n",
       "    </tr>\n",
       "    <tr>\n",
       "      <th>Wrist</th>\n",
       "      <td>4.969743</td>\n",
       "      <td>8.333628e-02</td>\n",
       "      <td>True</td>\n",
       "    </tr>\n",
       "  </tbody>\n",
       "</table>\n",
       "</div>"
      ],
      "text/plain": [
       "                  W          pval  normal\n",
       "Density    1.189386  5.517320e-01    True\n",
       "BodyFat    2.360106  3.072624e-01    True\n",
       "Age        5.992406  4.997648e-02   False\n",
       "Weight    78.280610  1.003648e-17   False\n",
       "Height   320.733684  2.257176e-70   False\n",
       "Neck      32.096843  1.072159e-07   False\n",
       "Chest     23.211955  9.111460e-06   False\n",
       "Abdomen   40.768975  1.403232e-09   False\n",
       "Hip      103.059007  4.178505e-23   False\n",
       "Thigh     43.188203  4.186017e-10   False\n",
       "Knee      17.232839  1.811075e-04   False\n",
       "Ankle    154.112201  3.427369e-34   False\n",
       "Biceps     5.735075  5.683871e-02    True\n",
       "Forearm    7.160271  2.787192e-02   False\n",
       "Wrist      4.969743  8.333628e-02    True"
      ]
     },
     "execution_count": 4,
     "metadata": {},
     "output_type": "execute_result"
    }
   ],
   "source": [
    "import pingouin as pg\n",
    "pg.normality(df, method='normaltest',alpha=0.05)"
   ]
  },
  {
   "cell_type": "code",
   "execution_count": 5,
   "id": "1f508ef1-2fa3-4282-bac0-e4ba9e76ca21",
   "metadata": {},
   "outputs": [],
   "source": [
    "#I can see some columns have gaussian distribution, others are not\n",
    "#Then I'll make a note of this\n",
    "gaussian = df[['Density','BodyFat','Biceps','Wrist']]\n",
    "nongaussian = df.drop(['Density','BodyFat','Biceps','Wrist'],axis=1)"
   ]
  },
  {
   "cell_type": "code",
   "execution_count": 6,
   "id": "aab766fb-4fca-4508-ae8e-95aa111f53b0",
   "metadata": {},
   "outputs": [
    {
     "data": {
      "text/html": [
       "<div>\n",
       "<style scoped>\n",
       "    .dataframe tbody tr th:only-of-type {\n",
       "        vertical-align: middle;\n",
       "    }\n",
       "\n",
       "    .dataframe tbody tr th {\n",
       "        vertical-align: top;\n",
       "    }\n",
       "\n",
       "    .dataframe thead th {\n",
       "        text-align: right;\n",
       "    }\n",
       "</style>\n",
       "<table border=\"1\" class=\"dataframe\">\n",
       "  <thead>\n",
       "    <tr style=\"text-align: right;\">\n",
       "      <th></th>\n",
       "      <th>Density</th>\n",
       "      <th>BodyFat</th>\n",
       "      <th>Biceps</th>\n",
       "      <th>Wrist</th>\n",
       "    </tr>\n",
       "  </thead>\n",
       "  <tbody>\n",
       "    <tr>\n",
       "      <th>count</th>\n",
       "      <td>252.000000</td>\n",
       "      <td>252.000000</td>\n",
       "      <td>252.000000</td>\n",
       "      <td>252.000000</td>\n",
       "    </tr>\n",
       "    <tr>\n",
       "      <th>mean</th>\n",
       "      <td>1.055574</td>\n",
       "      <td>19.150794</td>\n",
       "      <td>32.273413</td>\n",
       "      <td>18.229762</td>\n",
       "    </tr>\n",
       "    <tr>\n",
       "      <th>std</th>\n",
       "      <td>0.019031</td>\n",
       "      <td>8.368740</td>\n",
       "      <td>3.021274</td>\n",
       "      <td>0.933585</td>\n",
       "    </tr>\n",
       "    <tr>\n",
       "      <th>min</th>\n",
       "      <td>0.995000</td>\n",
       "      <td>0.000000</td>\n",
       "      <td>24.800000</td>\n",
       "      <td>15.800000</td>\n",
       "    </tr>\n",
       "    <tr>\n",
       "      <th>25%</th>\n",
       "      <td>1.041400</td>\n",
       "      <td>12.475000</td>\n",
       "      <td>30.200000</td>\n",
       "      <td>17.600000</td>\n",
       "    </tr>\n",
       "    <tr>\n",
       "      <th>50%</th>\n",
       "      <td>1.054900</td>\n",
       "      <td>19.200000</td>\n",
       "      <td>32.050000</td>\n",
       "      <td>18.300000</td>\n",
       "    </tr>\n",
       "    <tr>\n",
       "      <th>75%</th>\n",
       "      <td>1.070400</td>\n",
       "      <td>25.300000</td>\n",
       "      <td>34.325000</td>\n",
       "      <td>18.800000</td>\n",
       "    </tr>\n",
       "    <tr>\n",
       "      <th>max</th>\n",
       "      <td>1.108900</td>\n",
       "      <td>47.500000</td>\n",
       "      <td>45.000000</td>\n",
       "      <td>21.400000</td>\n",
       "    </tr>\n",
       "  </tbody>\n",
       "</table>\n",
       "</div>"
      ],
      "text/plain": [
       "          Density     BodyFat      Biceps       Wrist\n",
       "count  252.000000  252.000000  252.000000  252.000000\n",
       "mean     1.055574   19.150794   32.273413   18.229762\n",
       "std      0.019031    8.368740    3.021274    0.933585\n",
       "min      0.995000    0.000000   24.800000   15.800000\n",
       "25%      1.041400   12.475000   30.200000   17.600000\n",
       "50%      1.054900   19.200000   32.050000   18.300000\n",
       "75%      1.070400   25.300000   34.325000   18.800000\n",
       "max      1.108900   47.500000   45.000000   21.400000"
      ]
     },
     "execution_count": 6,
     "metadata": {},
     "output_type": "execute_result"
    }
   ],
   "source": [
    "#descriptive stats\n",
    "gaussian.describe()"
   ]
  },
  {
   "cell_type": "code",
   "execution_count": 7,
   "id": "7014df40-3f51-467d-acf5-29c7d35524dd",
   "metadata": {},
   "outputs": [
    {
     "name": "stdout",
     "output_type": "stream",
     "text": [
      "Age\n",
      "Min: 22.000\n",
      "Q1: 35.750\n",
      "Median: 43.000\n",
      "Q3: 54.000\n",
      "Max: 81.000\n",
      "\n",
      "\n",
      "Weight\n",
      "Min: 118.500\n",
      "Q1: 159.000\n",
      "Median: 176.500\n",
      "Q3: 197.000\n",
      "Max: 363.150\n",
      "\n",
      "\n",
      "Height\n",
      "Min: 29.500\n",
      "Q1: 68.250\n",
      "Median: 70.000\n",
      "Q3: 72.250\n",
      "Max: 77.750\n",
      "\n",
      "\n",
      "Neck\n",
      "Min: 31.100\n",
      "Q1: 36.400\n",
      "Median: 38.000\n",
      "Q3: 39.425\n",
      "Max: 51.200\n",
      "\n",
      "\n",
      "Chest\n",
      "Min: 79.300\n",
      "Q1: 94.350\n",
      "Median: 99.650\n",
      "Q3: 105.375\n",
      "Max: 136.200\n",
      "\n",
      "\n",
      "Abdomen\n",
      "Min: 69.400\n",
      "Q1: 84.575\n",
      "Median: 90.950\n",
      "Q3: 99.325\n",
      "Max: 148.100\n",
      "\n",
      "\n",
      "Hip\n",
      "Min: 85.000\n",
      "Q1: 95.500\n",
      "Median: 99.300\n",
      "Q3: 103.525\n",
      "Max: 147.700\n",
      "\n",
      "\n",
      "Thigh\n",
      "Min: 47.200\n",
      "Q1: 56.000\n",
      "Median: 59.000\n",
      "Q3: 62.350\n",
      "Max: 87.300\n",
      "\n",
      "\n",
      "Knee\n",
      "Min: 33.000\n",
      "Q1: 36.975\n",
      "Median: 38.500\n",
      "Q3: 39.925\n",
      "Max: 49.100\n",
      "\n",
      "\n",
      "Ankle\n",
      "Min: 19.100\n",
      "Q1: 22.000\n",
      "Median: 22.800\n",
      "Q3: 24.000\n",
      "Max: 33.900\n",
      "\n",
      "\n",
      "Forearm\n",
      "Min: 21.000\n",
      "Q1: 27.300\n",
      "Median: 28.700\n",
      "Q3: 30.000\n",
      "Max: 34.900\n",
      "\n",
      "\n"
     ]
    }
   ],
   "source": [
    "for i in nongaussian:\n",
    "    data = df[i]\n",
    "    print(df[i].name)\n",
    "    quartiles = np.percentile(data, [25, 50, 75])\n",
    "    data_min, data_max = data.min(), data.max()\n",
    "    print('Min: %.3f' % data_min)\n",
    "    print('Q1: %.3f' % quartiles[0]) \n",
    "    print('Median: %.3f' % quartiles[1]) \n",
    "    print('Q3: %.3f' % quartiles[2]) \n",
    "    print('Max: %.3f' % data_max)\n",
    "    print('\\n')"
   ]
  },
  {
   "cell_type": "code",
   "execution_count": null,
   "id": "3f5b204d-813a-4f69-adc4-128fa2b6b740",
   "metadata": {},
   "outputs": [],
   "source": []
  },
  {
   "cell_type": "code",
   "execution_count": null,
   "id": "938431e9-9c03-41a3-b1c5-2a4372e15892",
   "metadata": {},
   "outputs": [],
   "source": [
    "#Let me do some statistical analysis"
   ]
  },
  {
   "cell_type": "code",
   "execution_count": 8,
   "id": "11a82146-7203-46f7-b92c-72f19754b38f",
   "metadata": {},
   "outputs": [
    {
     "data": {
      "text/html": [
       "<div>\n",
       "<style scoped>\n",
       "    .dataframe tbody tr th:only-of-type {\n",
       "        vertical-align: middle;\n",
       "    }\n",
       "\n",
       "    .dataframe tbody tr th {\n",
       "        vertical-align: top;\n",
       "    }\n",
       "\n",
       "    .dataframe thead th {\n",
       "        text-align: right;\n",
       "    }\n",
       "</style>\n",
       "<table border=\"1\" class=\"dataframe\">\n",
       "  <thead>\n",
       "    <tr style=\"text-align: right;\">\n",
       "      <th></th>\n",
       "      <th>Density</th>\n",
       "      <th>BodyFat</th>\n",
       "      <th>Age</th>\n",
       "      <th>Weight</th>\n",
       "      <th>Height</th>\n",
       "      <th>Neck</th>\n",
       "      <th>Chest</th>\n",
       "      <th>Abdomen</th>\n",
       "      <th>Hip</th>\n",
       "      <th>Thigh</th>\n",
       "      <th>Knee</th>\n",
       "      <th>Ankle</th>\n",
       "      <th>Biceps</th>\n",
       "      <th>Forearm</th>\n",
       "      <th>Wrist</th>\n",
       "    </tr>\n",
       "  </thead>\n",
       "  <tbody>\n",
       "    <tr>\n",
       "      <th>77</th>\n",
       "      <td>1.0483</td>\n",
       "      <td>22.2</td>\n",
       "      <td>69</td>\n",
       "      <td>177.75</td>\n",
       "      <td>68.50</td>\n",
       "      <td>38.7</td>\n",
       "      <td>102.0</td>\n",
       "      <td>95.0</td>\n",
       "      <td>98.3</td>\n",
       "      <td>55.0</td>\n",
       "      <td>38.3</td>\n",
       "      <td>21.8</td>\n",
       "      <td>30.8</td>\n",
       "      <td>25.7</td>\n",
       "      <td>18.8</td>\n",
       "    </tr>\n",
       "    <tr>\n",
       "      <th>78</th>\n",
       "      <td>1.0498</td>\n",
       "      <td>21.5</td>\n",
       "      <td>81</td>\n",
       "      <td>161.25</td>\n",
       "      <td>70.25</td>\n",
       "      <td>37.8</td>\n",
       "      <td>96.4</td>\n",
       "      <td>95.4</td>\n",
       "      <td>99.3</td>\n",
       "      <td>53.5</td>\n",
       "      <td>37.5</td>\n",
       "      <td>21.5</td>\n",
       "      <td>31.4</td>\n",
       "      <td>26.8</td>\n",
       "      <td>18.3</td>\n",
       "    </tr>\n",
       "    <tr>\n",
       "      <th>79</th>\n",
       "      <td>1.0560</td>\n",
       "      <td>18.8</td>\n",
       "      <td>66</td>\n",
       "      <td>171.25</td>\n",
       "      <td>69.25</td>\n",
       "      <td>37.4</td>\n",
       "      <td>102.7</td>\n",
       "      <td>98.6</td>\n",
       "      <td>100.2</td>\n",
       "      <td>56.5</td>\n",
       "      <td>39.3</td>\n",
       "      <td>22.7</td>\n",
       "      <td>30.3</td>\n",
       "      <td>28.7</td>\n",
       "      <td>19.0</td>\n",
       "    </tr>\n",
       "  </tbody>\n",
       "</table>\n",
       "</div>"
      ],
      "text/plain": [
       "    Density  BodyFat  Age  Weight  Height  Neck  Chest  Abdomen    Hip  Thigh  \\\n",
       "77   1.0483     22.2   69  177.75   68.50  38.7  102.0     95.0   98.3   55.0   \n",
       "78   1.0498     21.5   81  161.25   70.25  37.8   96.4     95.4   99.3   53.5   \n",
       "79   1.0560     18.8   66  171.25   69.25  37.4  102.7     98.6  100.2   56.5   \n",
       "\n",
       "    Knee  Ankle  Biceps  Forearm  Wrist  \n",
       "77  38.3   21.8    30.8     25.7   18.8  \n",
       "78  37.5   21.5    31.4     26.8   18.3  \n",
       "79  39.3   22.7    30.3     28.7   19.0  "
      ]
     },
     "metadata": {},
     "output_type": "display_data"
    },
    {
     "name": "stdout",
     "output_type": "stream",
     "text": [
      "# of people with age >= 65: 21\n"
     ]
    }
   ],
   "source": [
    "display(df[(df.Age >= 65)].head(3))\n",
    "print('# of people with age >= 65: ' + str(len(df[(df.Age >= 65)])))"
   ]
  },
  {
   "cell_type": "code",
   "execution_count": 9,
   "id": "8789998e-15b1-4f29-8270-193175b65f3b",
   "metadata": {},
   "outputs": [
    {
     "name": "stdout",
     "output_type": "stream",
     "text": [
      "h0: Sample distributions are equal\n",
      "ha: Sample distributions are not equal\n"
     ]
    }
   ],
   "source": [
    "#ok, there are about 21 elders exist, is there a difference in bodyfat between elders and non-elders?\n",
    "print('h0: Sample distributions are equal')\n",
    "print('ha: Sample distributions are not equal')"
   ]
  },
  {
   "cell_type": "code",
   "execution_count": 10,
   "id": "40fa4868-0c17-4d85-a145-6db91f3d0487",
   "metadata": {},
   "outputs": [
    {
     "name": "stdout",
     "output_type": "stream",
     "text": [
      "Statistics=3662.500, p=0.00011\n",
      "Different distribution (reject H0)\n"
     ]
    }
   ],
   "source": [
    "from scipy.stats import mannwhitneyu\n",
    "group = df[['BodyFat','Age']]\n",
    "group1 = group[(group.Age >= 65)]\n",
    "group1 = group1['BodyFat']\n",
    "group = df[['BodyFat','Age']]\n",
    "group2 = group[(group.Age < 65)]\n",
    "group2 = group2['BodyFat']\n",
    "stat, p = mannwhitneyu(group1, group2) \n",
    "print('Statistics=%.3f, p=%.5f' % (stat, p))\n",
    "alpha = 0.05\n",
    "if p > alpha:\n",
    "    print('Same distribution (fail to reject H0)') \n",
    "else:\n",
    "    print('Different distribution (reject H0)')"
   ]
  },
  {
   "cell_type": "code",
   "execution_count": 11,
   "id": "7f5f01ec-15e9-4f9e-b4eb-b7d574bdeefb",
   "metadata": {},
   "outputs": [
    {
     "data": {
      "text/html": [
       "<div>\n",
       "<style scoped>\n",
       "    .dataframe tbody tr th:only-of-type {\n",
       "        vertical-align: middle;\n",
       "    }\n",
       "\n",
       "    .dataframe tbody tr th {\n",
       "        vertical-align: top;\n",
       "    }\n",
       "\n",
       "    .dataframe thead th {\n",
       "        text-align: right;\n",
       "    }\n",
       "</style>\n",
       "<table border=\"1\" class=\"dataframe\">\n",
       "  <thead>\n",
       "    <tr style=\"text-align: right;\">\n",
       "      <th></th>\n",
       "      <th>U-val</th>\n",
       "      <th>alternative</th>\n",
       "      <th>p-val</th>\n",
       "      <th>RBC</th>\n",
       "      <th>CLES</th>\n",
       "    </tr>\n",
       "  </thead>\n",
       "  <tbody>\n",
       "    <tr>\n",
       "      <th>MWU</th>\n",
       "      <td>3662.5</td>\n",
       "      <td>two-sided</td>\n",
       "      <td>0.00011</td>\n",
       "      <td>-0.509998</td>\n",
       "      <td>0.754999</td>\n",
       "    </tr>\n",
       "  </tbody>\n",
       "</table>\n",
       "</div>"
      ],
      "text/plain": [
       "      U-val alternative    p-val       RBC      CLES\n",
       "MWU  3662.5   two-sided  0.00011 -0.509998  0.754999"
      ]
     },
     "execution_count": 11,
     "metadata": {},
     "output_type": "execute_result"
    }
   ],
   "source": [
    "pg.mwu(group1, group2, alternative='two-sided')"
   ]
  },
  {
   "cell_type": "code",
   "execution_count": null,
   "id": "faf643c5-2820-45a8-9411-c26febacf77b",
   "metadata": {},
   "outputs": [],
   "source": [
    "#seems like there is a difference between two groups"
   ]
  },
  {
   "cell_type": "code",
   "execution_count": null,
   "id": "79b27ba7-aa1b-42c1-8c18-ecdbd09ab1f9",
   "metadata": {},
   "outputs": [],
   "source": []
  },
  {
   "cell_type": "code",
   "execution_count": null,
   "id": "857522a0-fbc5-478b-a479-245a6274cb63",
   "metadata": {},
   "outputs": [],
   "source": [
    "#Let me see the correlation in the dataset"
   ]
  },
  {
   "cell_type": "code",
   "execution_count": 12,
   "id": "7a32f777-102e-4b1c-93b3-ce6562ee24ce",
   "metadata": {},
   "outputs": [
    {
     "name": "stdout",
     "output_type": "stream",
     "text": [
      "BodyFat    1.000000\n",
      "Abdomen    0.816248\n",
      "Chest      0.673999\n",
      "Weight     0.612869\n",
      "Hip        0.612125\n",
      "Thigh      0.544957\n",
      "Biceps     0.493652\n",
      "Neck       0.491252\n",
      "Knee       0.489285\n",
      "Forearm    0.392696\n",
      "Wrist      0.313797\n",
      "Ankle      0.299646\n",
      "Age        0.274691\n",
      "Height    -0.008456\n",
      "Density   -0.993404\n",
      "Name: BodyFat, dtype: float64\n"
     ]
    }
   ],
   "source": [
    "corr_mat = df.corr(method=\"spearman\")\n",
    "print(corr_mat['BodyFat'].sort_values(ascending=False))"
   ]
  },
  {
   "cell_type": "code",
   "execution_count": 13,
   "id": "764d4c7b-4148-4925-9e4a-4af40ec6ba62",
   "metadata": {},
   "outputs": [
    {
     "data": {
      "text/html": [
       "<div>\n",
       "<style scoped>\n",
       "    .dataframe tbody tr th:only-of-type {\n",
       "        vertical-align: middle;\n",
       "    }\n",
       "\n",
       "    .dataframe tbody tr th {\n",
       "        vertical-align: top;\n",
       "    }\n",
       "\n",
       "    .dataframe thead th {\n",
       "        text-align: right;\n",
       "    }\n",
       "</style>\n",
       "<table border=\"1\" class=\"dataframe\">\n",
       "  <thead>\n",
       "    <tr style=\"text-align: right;\">\n",
       "      <th></th>\n",
       "      <th>X</th>\n",
       "      <th>Y</th>\n",
       "      <th>method</th>\n",
       "      <th>alternative</th>\n",
       "      <th>n</th>\n",
       "      <th>r</th>\n",
       "      <th>CI95%</th>\n",
       "      <th>p-unc</th>\n",
       "      <th>power</th>\n",
       "    </tr>\n",
       "  </thead>\n",
       "  <tbody>\n",
       "    <tr>\n",
       "      <th>0</th>\n",
       "      <td>BodyFat</td>\n",
       "      <td>Density</td>\n",
       "      <td>spearman</td>\n",
       "      <td>two-sided</td>\n",
       "      <td>252</td>\n",
       "      <td>-0.9934</td>\n",
       "      <td>[-0.99, -0.99]</td>\n",
       "      <td>0.0000</td>\n",
       "      <td>1.0000</td>\n",
       "    </tr>\n",
       "    <tr>\n",
       "      <th>3</th>\n",
       "      <td>BodyFat</td>\n",
       "      <td>Height</td>\n",
       "      <td>spearman</td>\n",
       "      <td>two-sided</td>\n",
       "      <td>252</td>\n",
       "      <td>-0.0085</td>\n",
       "      <td>[-0.13, 0.12]</td>\n",
       "      <td>0.8937</td>\n",
       "      <td>0.0520</td>\n",
       "    </tr>\n",
       "    <tr>\n",
       "      <th>1</th>\n",
       "      <td>BodyFat</td>\n",
       "      <td>Age</td>\n",
       "      <td>spearman</td>\n",
       "      <td>two-sided</td>\n",
       "      <td>252</td>\n",
       "      <td>0.2747</td>\n",
       "      <td>[0.16, 0.39]</td>\n",
       "      <td>0.0000</td>\n",
       "      <td>0.9937</td>\n",
       "    </tr>\n",
       "    <tr>\n",
       "      <th>10</th>\n",
       "      <td>BodyFat</td>\n",
       "      <td>Ankle</td>\n",
       "      <td>spearman</td>\n",
       "      <td>two-sided</td>\n",
       "      <td>252</td>\n",
       "      <td>0.2996</td>\n",
       "      <td>[0.18, 0.41]</td>\n",
       "      <td>0.0000</td>\n",
       "      <td>0.9983</td>\n",
       "    </tr>\n",
       "    <tr>\n",
       "      <th>13</th>\n",
       "      <td>BodyFat</td>\n",
       "      <td>Wrist</td>\n",
       "      <td>spearman</td>\n",
       "      <td>two-sided</td>\n",
       "      <td>252</td>\n",
       "      <td>0.3138</td>\n",
       "      <td>[0.2, 0.42]</td>\n",
       "      <td>0.0000</td>\n",
       "      <td>0.9992</td>\n",
       "    </tr>\n",
       "    <tr>\n",
       "      <th>12</th>\n",
       "      <td>BodyFat</td>\n",
       "      <td>Forearm</td>\n",
       "      <td>spearman</td>\n",
       "      <td>two-sided</td>\n",
       "      <td>252</td>\n",
       "      <td>0.3927</td>\n",
       "      <td>[0.28, 0.49]</td>\n",
       "      <td>0.0000</td>\n",
       "      <td>1.0000</td>\n",
       "    </tr>\n",
       "    <tr>\n",
       "      <th>9</th>\n",
       "      <td>BodyFat</td>\n",
       "      <td>Knee</td>\n",
       "      <td>spearman</td>\n",
       "      <td>two-sided</td>\n",
       "      <td>252</td>\n",
       "      <td>0.4893</td>\n",
       "      <td>[0.39, 0.58]</td>\n",
       "      <td>0.0000</td>\n",
       "      <td>1.0000</td>\n",
       "    </tr>\n",
       "    <tr>\n",
       "      <th>4</th>\n",
       "      <td>BodyFat</td>\n",
       "      <td>Neck</td>\n",
       "      <td>spearman</td>\n",
       "      <td>two-sided</td>\n",
       "      <td>252</td>\n",
       "      <td>0.4913</td>\n",
       "      <td>[0.39, 0.58]</td>\n",
       "      <td>0.0000</td>\n",
       "      <td>1.0000</td>\n",
       "    </tr>\n",
       "    <tr>\n",
       "      <th>11</th>\n",
       "      <td>BodyFat</td>\n",
       "      <td>Biceps</td>\n",
       "      <td>spearman</td>\n",
       "      <td>two-sided</td>\n",
       "      <td>252</td>\n",
       "      <td>0.4937</td>\n",
       "      <td>[0.39, 0.58]</td>\n",
       "      <td>0.0000</td>\n",
       "      <td>1.0000</td>\n",
       "    </tr>\n",
       "    <tr>\n",
       "      <th>8</th>\n",
       "      <td>BodyFat</td>\n",
       "      <td>Thigh</td>\n",
       "      <td>spearman</td>\n",
       "      <td>two-sided</td>\n",
       "      <td>252</td>\n",
       "      <td>0.5450</td>\n",
       "      <td>[0.45, 0.63]</td>\n",
       "      <td>0.0000</td>\n",
       "      <td>1.0000</td>\n",
       "    </tr>\n",
       "    <tr>\n",
       "      <th>7</th>\n",
       "      <td>BodyFat</td>\n",
       "      <td>Hip</td>\n",
       "      <td>spearman</td>\n",
       "      <td>two-sided</td>\n",
       "      <td>252</td>\n",
       "      <td>0.6121</td>\n",
       "      <td>[0.53, 0.68]</td>\n",
       "      <td>0.0000</td>\n",
       "      <td>1.0000</td>\n",
       "    </tr>\n",
       "    <tr>\n",
       "      <th>2</th>\n",
       "      <td>BodyFat</td>\n",
       "      <td>Weight</td>\n",
       "      <td>spearman</td>\n",
       "      <td>two-sided</td>\n",
       "      <td>252</td>\n",
       "      <td>0.6129</td>\n",
       "      <td>[0.53, 0.68]</td>\n",
       "      <td>0.0000</td>\n",
       "      <td>1.0000</td>\n",
       "    </tr>\n",
       "    <tr>\n",
       "      <th>5</th>\n",
       "      <td>BodyFat</td>\n",
       "      <td>Chest</td>\n",
       "      <td>spearman</td>\n",
       "      <td>two-sided</td>\n",
       "      <td>252</td>\n",
       "      <td>0.6740</td>\n",
       "      <td>[0.6, 0.74]</td>\n",
       "      <td>0.0000</td>\n",
       "      <td>1.0000</td>\n",
       "    </tr>\n",
       "    <tr>\n",
       "      <th>6</th>\n",
       "      <td>BodyFat</td>\n",
       "      <td>Abdomen</td>\n",
       "      <td>spearman</td>\n",
       "      <td>two-sided</td>\n",
       "      <td>252</td>\n",
       "      <td>0.8162</td>\n",
       "      <td>[0.77, 0.85]</td>\n",
       "      <td>0.0000</td>\n",
       "      <td>1.0000</td>\n",
       "    </tr>\n",
       "  </tbody>\n",
       "</table>\n",
       "</div>"
      ],
      "text/plain": [
       "          X        Y    method alternative    n       r           CI95%  \\\n",
       "0   BodyFat  Density  spearman   two-sided  252 -0.9934  [-0.99, -0.99]   \n",
       "3   BodyFat   Height  spearman   two-sided  252 -0.0085   [-0.13, 0.12]   \n",
       "1   BodyFat      Age  spearman   two-sided  252  0.2747    [0.16, 0.39]   \n",
       "10  BodyFat    Ankle  spearman   two-sided  252  0.2996    [0.18, 0.41]   \n",
       "13  BodyFat    Wrist  spearman   two-sided  252  0.3138     [0.2, 0.42]   \n",
       "12  BodyFat  Forearm  spearman   two-sided  252  0.3927    [0.28, 0.49]   \n",
       "9   BodyFat     Knee  spearman   two-sided  252  0.4893    [0.39, 0.58]   \n",
       "4   BodyFat     Neck  spearman   two-sided  252  0.4913    [0.39, 0.58]   \n",
       "11  BodyFat   Biceps  spearman   two-sided  252  0.4937    [0.39, 0.58]   \n",
       "8   BodyFat    Thigh  spearman   two-sided  252  0.5450    [0.45, 0.63]   \n",
       "7   BodyFat      Hip  spearman   two-sided  252  0.6121    [0.53, 0.68]   \n",
       "2   BodyFat   Weight  spearman   two-sided  252  0.6129    [0.53, 0.68]   \n",
       "5   BodyFat    Chest  spearman   two-sided  252  0.6740     [0.6, 0.74]   \n",
       "6   BodyFat  Abdomen  spearman   two-sided  252  0.8162    [0.77, 0.85]   \n",
       "\n",
       "     p-unc   power  \n",
       "0   0.0000  1.0000  \n",
       "3   0.8937  0.0520  \n",
       "1   0.0000  0.9937  \n",
       "10  0.0000  0.9983  \n",
       "13  0.0000  0.9992  \n",
       "12  0.0000  1.0000  \n",
       "9   0.0000  1.0000  \n",
       "4   0.0000  1.0000  \n",
       "11  0.0000  1.0000  \n",
       "8   0.0000  1.0000  \n",
       "7   0.0000  1.0000  \n",
       "2   0.0000  1.0000  \n",
       "5   0.0000  1.0000  \n",
       "6   0.0000  1.0000  "
      ]
     },
     "execution_count": 13,
     "metadata": {},
     "output_type": "execute_result"
    }
   ],
   "source": [
    "round(pg.pairwise_corr(df,columns=['BodyFat'], method=\"spearman\").sort_values(by=['r']),4)"
   ]
  },
  {
   "cell_type": "code",
   "execution_count": null,
   "id": "e8b7b942-4e4d-4e7c-b852-c99b4361c31a",
   "metadata": {},
   "outputs": [],
   "source": [
    "#Looks like many variables have at least moderate correlation with bodyfat"
   ]
  },
  {
   "cell_type": "code",
   "execution_count": null,
   "id": "516afc1b-4e3a-4aa2-a2df-390d048df683",
   "metadata": {},
   "outputs": [],
   "source": []
  },
  {
   "cell_type": "code",
   "execution_count": 14,
   "id": "89261ea7-1012-43b3-b481-17c7e3673648",
   "metadata": {},
   "outputs": [
    {
     "name": "stdout",
     "output_type": "stream",
     "text": [
      "(201, 14) (51, 14)\n"
     ]
    }
   ],
   "source": [
    "#Time to do machine learning\n",
    "from sklearn.model_selection import train_test_split\n",
    "x = df.drop(['BodyFat'],axis=1); y = df['BodyFat']\n",
    "x_train, x_test, y_train, y_test = train_test_split(x, y, test_size=0.2,random_state=1)\n",
    "print(x_train.shape, x_test.shape)"
   ]
  },
  {
   "cell_type": "code",
   "execution_count": null,
   "id": "50af5269-3484-4e19-a4d8-9e8c56e864d8",
   "metadata": {},
   "outputs": [],
   "source": [
    "#before the modeling I'll check missing value and outliers"
   ]
  },
  {
   "cell_type": "code",
   "execution_count": 15,
   "id": "13578f9f-5c86-45a3-b616-e7860636a4f7",
   "metadata": {},
   "outputs": [
    {
     "name": "stdout",
     "output_type": "stream",
     "text": [
      "Density    0\n",
      "BodyFat    0\n",
      "Age        0\n",
      "Weight     0\n",
      "Height     0\n",
      "Neck       0\n",
      "Chest      0\n",
      "Abdomen    0\n",
      "Hip        0\n",
      "Thigh      0\n",
      "Knee       0\n",
      "Ankle      0\n",
      "Biceps     0\n",
      "Forearm    0\n",
      "Wrist      0\n",
      "dtype: int64\n"
     ]
    }
   ],
   "source": [
    "#missing\n",
    "print(df.isnull().sum())"
   ]
  },
  {
   "cell_type": "code",
   "execution_count": 16,
   "id": "cb22984f-12d4-41da-9705-b8fb8ce73aba",
   "metadata": {},
   "outputs": [
    {
     "name": "stdout",
     "output_type": "stream",
     "text": [
      "before outliers: (201, 14)\n",
      "(150, 14)\n"
     ]
    }
   ],
   "source": [
    "#Remove outliers using isolation forest method. I'll set \"contamination\" to auto\n",
    "from sklearn.ensemble import IsolationForest\n",
    "print('before outliers: ' + str(x_train.shape))\n",
    "iso = IsolationForest(contamination='auto',random_state=1,n_jobs=-1,bootstrap=True)\n",
    "yhat = iso.fit_predict(x_train[x_train.select_dtypes(include=['int64', 'float64']).columns])\n",
    "mask = yhat != -1\n",
    "x_train, y_train = x_train[mask], y_train[mask]\n",
    "print(x_train.shape)"
   ]
  },
  {
   "cell_type": "code",
   "execution_count": null,
   "id": "3f761041-eae1-416c-a48b-be28b7edfd60",
   "metadata": {},
   "outputs": [],
   "source": []
  },
  {
   "cell_type": "code",
   "execution_count": null,
   "id": "7a55a6ab-aebc-4fec-8fef-7e99a2ed6669",
   "metadata": {},
   "outputs": [],
   "source": []
  },
  {
   "cell_type": "markdown",
   "id": "f4b4047a-6e5f-4e5d-8d96-9442422c23c6",
   "metadata": {},
   "source": [
    "Machine Learning:"
   ]
  },
  {
   "cell_type": "code",
   "execution_count": 17,
   "id": "5d86abe2-2e7d-4203-a895-1d6bfb6def71",
   "metadata": {},
   "outputs": [],
   "source": [
    "#ok now I'll build a pipeline\n",
    "from sklearn.neighbors import KNeighborsClassifier\n",
    "from sklearn.preprocessing import RobustScaler,PowerTransformer\n",
    "from sklearn.pipeline import make_pipeline; from sklearn.compose import make_column_transformer\n",
    "from sklearn.neighbors import KNeighborsRegressor\n",
    "numcol = x_train.select_dtypes(include=['int64', 'float64']).columns\n",
    "\n",
    "power = PowerTransformer(method='yeo-johnson')\n",
    "rob = RobustScaler(quantile_range=(25.0, 75.0))\n",
    "ct = make_column_transformer((make_pipeline(power,rob),numcol),remainder='passthrough')\n",
    "knn = KNeighborsRegressor(n_jobs=-1)\n",
    "\n",
    "pipeline = make_pipeline(ct,knn,verbose=False)"
   ]
  },
  {
   "cell_type": "code",
   "execution_count": 18,
   "id": "cd37f12d-cda4-440d-9ab3-b1ecb3a8b7eb",
   "metadata": {},
   "outputs": [
    {
     "data": {
      "text/html": [
       "<style>#sk-3d59c010-4f44-4306-93c2-30c63cf28e2b {color: black;background-color: white;}#sk-3d59c010-4f44-4306-93c2-30c63cf28e2b pre{padding: 0;}#sk-3d59c010-4f44-4306-93c2-30c63cf28e2b div.sk-toggleable {background-color: white;}#sk-3d59c010-4f44-4306-93c2-30c63cf28e2b label.sk-toggleable__label {cursor: pointer;display: block;width: 100%;margin-bottom: 0;padding: 0.3em;box-sizing: border-box;text-align: center;}#sk-3d59c010-4f44-4306-93c2-30c63cf28e2b div.sk-toggleable__content {max-height: 0;max-width: 0;overflow: hidden;text-align: left;background-color: #f0f8ff;}#sk-3d59c010-4f44-4306-93c2-30c63cf28e2b div.sk-toggleable__content pre {margin: 0.2em;color: black;border-radius: 0.25em;background-color: #f0f8ff;}#sk-3d59c010-4f44-4306-93c2-30c63cf28e2b input.sk-toggleable__control:checked~div.sk-toggleable__content {max-height: 200px;max-width: 100%;overflow: auto;}#sk-3d59c010-4f44-4306-93c2-30c63cf28e2b div.sk-estimator input.sk-toggleable__control:checked~label.sk-toggleable__label {background-color: #d4ebff;}#sk-3d59c010-4f44-4306-93c2-30c63cf28e2b div.sk-label input.sk-toggleable__control:checked~label.sk-toggleable__label {background-color: #d4ebff;}#sk-3d59c010-4f44-4306-93c2-30c63cf28e2b input.sk-hidden--visually {border: 0;clip: rect(1px 1px 1px 1px);clip: rect(1px, 1px, 1px, 1px);height: 1px;margin: -1px;overflow: hidden;padding: 0;position: absolute;width: 1px;}#sk-3d59c010-4f44-4306-93c2-30c63cf28e2b div.sk-estimator {font-family: monospace;background-color: #f0f8ff;border: 1px dotted black;border-radius: 0.25em;box-sizing: border-box;margin-bottom: 0.5em;}#sk-3d59c010-4f44-4306-93c2-30c63cf28e2b div.sk-estimator:hover {background-color: #d4ebff;}#sk-3d59c010-4f44-4306-93c2-30c63cf28e2b div.sk-parallel-item::after {content: \"\";width: 100%;border-bottom: 1px solid gray;flex-grow: 1;}#sk-3d59c010-4f44-4306-93c2-30c63cf28e2b div.sk-label:hover label.sk-toggleable__label {background-color: #d4ebff;}#sk-3d59c010-4f44-4306-93c2-30c63cf28e2b div.sk-serial::before {content: \"\";position: absolute;border-left: 1px solid gray;box-sizing: border-box;top: 2em;bottom: 0;left: 50%;}#sk-3d59c010-4f44-4306-93c2-30c63cf28e2b div.sk-serial {display: flex;flex-direction: column;align-items: center;background-color: white;padding-right: 0.2em;padding-left: 0.2em;}#sk-3d59c010-4f44-4306-93c2-30c63cf28e2b div.sk-item {z-index: 1;}#sk-3d59c010-4f44-4306-93c2-30c63cf28e2b div.sk-parallel {display: flex;align-items: stretch;justify-content: center;background-color: white;}#sk-3d59c010-4f44-4306-93c2-30c63cf28e2b div.sk-parallel::before {content: \"\";position: absolute;border-left: 1px solid gray;box-sizing: border-box;top: 2em;bottom: 0;left: 50%;}#sk-3d59c010-4f44-4306-93c2-30c63cf28e2b div.sk-parallel-item {display: flex;flex-direction: column;position: relative;background-color: white;}#sk-3d59c010-4f44-4306-93c2-30c63cf28e2b div.sk-parallel-item:first-child::after {align-self: flex-end;width: 50%;}#sk-3d59c010-4f44-4306-93c2-30c63cf28e2b div.sk-parallel-item:last-child::after {align-self: flex-start;width: 50%;}#sk-3d59c010-4f44-4306-93c2-30c63cf28e2b div.sk-parallel-item:only-child::after {width: 0;}#sk-3d59c010-4f44-4306-93c2-30c63cf28e2b div.sk-dashed-wrapped {border: 1px dashed gray;margin: 0 0.4em 0.5em 0.4em;box-sizing: border-box;padding-bottom: 0.4em;background-color: white;position: relative;}#sk-3d59c010-4f44-4306-93c2-30c63cf28e2b div.sk-label label {font-family: monospace;font-weight: bold;background-color: white;display: inline-block;line-height: 1.2em;}#sk-3d59c010-4f44-4306-93c2-30c63cf28e2b div.sk-label-container {position: relative;z-index: 2;text-align: center;}#sk-3d59c010-4f44-4306-93c2-30c63cf28e2b div.sk-container {display: inline-block;position: relative;}</style><div id=\"sk-3d59c010-4f44-4306-93c2-30c63cf28e2b\" class\"sk-top-container\"><div class=\"sk-container\"><div class=\"sk-item sk-dashed-wrapped\"><div class=\"sk-label-container\"><div class=\"sk-label sk-toggleable\"><input class=\"sk-toggleable__control sk-hidden--visually\" id=\"372ea3cf-e356-42d0-aad4-bc285ee18fb9\" type=\"checkbox\" ><label class=\"sk-toggleable__label\" for=\"372ea3cf-e356-42d0-aad4-bc285ee18fb9\">Pipeline</label><div class=\"sk-toggleable__content\"><pre>Pipeline(steps=[('columntransformer',\n",
       "                 ColumnTransformer(remainder='passthrough',\n",
       "                                   transformers=[('pipeline',\n",
       "                                                  Pipeline(steps=[('powertransformer',\n",
       "                                                                   PowerTransformer()),\n",
       "                                                                  ('robustscaler',\n",
       "                                                                   RobustScaler())]),\n",
       "                                                  Index(['Density', 'Age', 'Weight', 'Height', 'Neck', 'Chest', 'Abdomen', 'Hip',\n",
       "       'Thigh', 'Knee', 'Ankle', 'Biceps', 'Forearm', 'Wrist'],\n",
       "      dtype='object'))])),\n",
       "                ('kneighborsregressor', KNeighborsRegressor(n_jobs=-1))])</pre></div></div></div><div class=\"sk-serial\"><div class=\"sk-item sk-dashed-wrapped\"><div class=\"sk-label-container\"><div class=\"sk-label sk-toggleable\"><input class=\"sk-toggleable__control sk-hidden--visually\" id=\"e08fef90-e0df-4456-bb4f-93e10f421f59\" type=\"checkbox\" ><label class=\"sk-toggleable__label\" for=\"e08fef90-e0df-4456-bb4f-93e10f421f59\">columntransformer: ColumnTransformer</label><div class=\"sk-toggleable__content\"><pre>ColumnTransformer(remainder='passthrough',\n",
       "                  transformers=[('pipeline',\n",
       "                                 Pipeline(steps=[('powertransformer',\n",
       "                                                  PowerTransformer()),\n",
       "                                                 ('robustscaler',\n",
       "                                                  RobustScaler())]),\n",
       "                                 Index(['Density', 'Age', 'Weight', 'Height', 'Neck', 'Chest', 'Abdomen', 'Hip',\n",
       "       'Thigh', 'Knee', 'Ankle', 'Biceps', 'Forearm', 'Wrist'],\n",
       "      dtype='object'))])</pre></div></div></div><div class=\"sk-parallel\"><div class=\"sk-parallel-item\"><div class=\"sk-item\"><div class=\"sk-label-container\"><div class=\"sk-label sk-toggleable\"><input class=\"sk-toggleable__control sk-hidden--visually\" id=\"c664955b-a6e8-4f50-a81e-a992fd06a3ad\" type=\"checkbox\" ><label class=\"sk-toggleable__label\" for=\"c664955b-a6e8-4f50-a81e-a992fd06a3ad\">pipeline</label><div class=\"sk-toggleable__content\"><pre>Index(['Density', 'Age', 'Weight', 'Height', 'Neck', 'Chest', 'Abdomen', 'Hip',\n",
       "       'Thigh', 'Knee', 'Ankle', 'Biceps', 'Forearm', 'Wrist'],\n",
       "      dtype='object')</pre></div></div></div><div class=\"sk-serial\"><div class=\"sk-item\"><div class=\"sk-serial\"><div class=\"sk-item\"><div class=\"sk-estimator sk-toggleable\"><input class=\"sk-toggleable__control sk-hidden--visually\" id=\"38dce1b8-8f72-4374-996f-b98511e9786d\" type=\"checkbox\" ><label class=\"sk-toggleable__label\" for=\"38dce1b8-8f72-4374-996f-b98511e9786d\">PowerTransformer</label><div class=\"sk-toggleable__content\"><pre>PowerTransformer()</pre></div></div></div><div class=\"sk-item\"><div class=\"sk-estimator sk-toggleable\"><input class=\"sk-toggleable__control sk-hidden--visually\" id=\"43c6fc44-d9e4-4088-ac46-ad063f42c7b7\" type=\"checkbox\" ><label class=\"sk-toggleable__label\" for=\"43c6fc44-d9e4-4088-ac46-ad063f42c7b7\">RobustScaler</label><div class=\"sk-toggleable__content\"><pre>RobustScaler()</pre></div></div></div></div></div></div></div></div><div class=\"sk-parallel-item\"><div class=\"sk-item\"><div class=\"sk-label-container\"><div class=\"sk-label sk-toggleable\"><input class=\"sk-toggleable__control sk-hidden--visually\" id=\"61b19664-d639-4530-9e33-0be051f16021\" type=\"checkbox\" ><label class=\"sk-toggleable__label\" for=\"61b19664-d639-4530-9e33-0be051f16021\">remainder</label><div class=\"sk-toggleable__content\"><pre></pre></div></div></div><div class=\"sk-serial\"><div class=\"sk-item\"><div class=\"sk-estimator sk-toggleable\"><input class=\"sk-toggleable__control sk-hidden--visually\" id=\"28f292c6-eec1-4ad9-8c4f-a009a7f6e029\" type=\"checkbox\" ><label class=\"sk-toggleable__label\" for=\"28f292c6-eec1-4ad9-8c4f-a009a7f6e029\">passthrough</label><div class=\"sk-toggleable__content\"><pre>passthrough</pre></div></div></div></div></div></div></div></div><div class=\"sk-item\"><div class=\"sk-estimator sk-toggleable\"><input class=\"sk-toggleable__control sk-hidden--visually\" id=\"dad3e355-6bbb-458c-9f7b-2d257ead3477\" type=\"checkbox\" ><label class=\"sk-toggleable__label\" for=\"dad3e355-6bbb-458c-9f7b-2d257ead3477\">KNeighborsRegressor</label><div class=\"sk-toggleable__content\"><pre>KNeighborsRegressor(n_jobs=-1)</pre></div></div></div></div></div></div></div>"
      ],
      "text/plain": [
       "Pipeline(steps=[('columntransformer',\n",
       "                 ColumnTransformer(remainder='passthrough',\n",
       "                                   transformers=[('pipeline',\n",
       "                                                  Pipeline(steps=[('powertransformer',\n",
       "                                                                   PowerTransformer()),\n",
       "                                                                  ('robustscaler',\n",
       "                                                                   RobustScaler())]),\n",
       "                                                  Index(['Density', 'Age', 'Weight', 'Height', 'Neck', 'Chest', 'Abdomen', 'Hip',\n",
       "       'Thigh', 'Knee', 'Ankle', 'Biceps', 'Forearm', 'Wrist'],\n",
       "      dtype='object'))])),\n",
       "                ('kneighborsregressor', KNeighborsRegressor(n_jobs=-1))])"
      ]
     },
     "execution_count": 18,
     "metadata": {},
     "output_type": "execute_result"
    }
   ],
   "source": [
    "#Take a look at the pipeline in graph\n",
    "from sklearn import set_config\n",
    "set_config(display='diagram')\n",
    "pipeline"
   ]
  },
  {
   "cell_type": "code",
   "execution_count": 19,
   "id": "ea0b449b-97ae-438d-919f-a239c36f3611",
   "metadata": {},
   "outputs": [
    {
     "name": "stdout",
     "output_type": "stream",
     "text": [
      "CV train RMSE: 2.995 (0.075)\n",
      "CV test RMSE: 3.674 (0.738)\n"
     ]
    }
   ],
   "source": [
    "#Time to evaluate. For now, I don't plan to do any hyperparameter optimization\n",
    "from sklearn.model_selection import KFold; from sklearn.model_selection import cross_validate\n",
    "kfold = KFold(n_splits=10, random_state=1,shuffle=True)\n",
    "scores = cross_validate(pipeline, x_train, y_train, scoring='neg_root_mean_squared_error', cv=kfold, n_jobs=-1,return_train_score=True)\n",
    "print('CV train RMSE: %.3f (%.3f)' % (np.abs(np.mean(scores['train_score'])), np.std(scores['train_score'])))\n",
    "print('CV test RMSE: %.3f (%.3f)' % (np.abs(np.mean(scores['test_score'])), np.std(scores['test_score'])))"
   ]
  },
  {
   "cell_type": "code",
   "execution_count": 20,
   "id": "c5a592b2-3c71-4181-8c4c-322e983dcb1c",
   "metadata": {},
   "outputs": [
    {
     "name": "stdout",
     "output_type": "stream",
     "text": [
      "R Squared: 0.7294539858245506\n",
      "MAE: 3.647450980392157\n",
      "RMSE: 4.460845782812853\n"
     ]
    }
   ],
   "source": [
    "#what about performance on test set?\n",
    "from sklearn import metrics\n",
    "pipeline.fit(x_train,y_train)\n",
    "yhat = pipeline.predict(x_test)\n",
    "print('R Squared:', metrics.r2_score(y_test, yhat))\n",
    "print('MAE:', metrics.mean_absolute_error(y_test, yhat))\n",
    "print('RMSE:', metrics.mean_squared_error(y_test, yhat,squared=False))"
   ]
  },
  {
   "cell_type": "code",
   "execution_count": null,
   "id": "5fdc6f34-c41a-4f2c-82a2-b3a37be4857a",
   "metadata": {},
   "outputs": [],
   "source": [
    "#now, I'll do feature selection to see the improvment, let me just select 7 features"
   ]
  },
  {
   "cell_type": "code",
   "execution_count": 21,
   "id": "8914f23f-75f0-47a5-a16b-dd6d1cd8182b",
   "metadata": {},
   "outputs": [
    {
     "data": {
      "text/html": [
       "<style>#sk-be3c99df-d0da-42ed-a1d5-760615e8a987 {color: black;background-color: white;}#sk-be3c99df-d0da-42ed-a1d5-760615e8a987 pre{padding: 0;}#sk-be3c99df-d0da-42ed-a1d5-760615e8a987 div.sk-toggleable {background-color: white;}#sk-be3c99df-d0da-42ed-a1d5-760615e8a987 label.sk-toggleable__label {cursor: pointer;display: block;width: 100%;margin-bottom: 0;padding: 0.3em;box-sizing: border-box;text-align: center;}#sk-be3c99df-d0da-42ed-a1d5-760615e8a987 div.sk-toggleable__content {max-height: 0;max-width: 0;overflow: hidden;text-align: left;background-color: #f0f8ff;}#sk-be3c99df-d0da-42ed-a1d5-760615e8a987 div.sk-toggleable__content pre {margin: 0.2em;color: black;border-radius: 0.25em;background-color: #f0f8ff;}#sk-be3c99df-d0da-42ed-a1d5-760615e8a987 input.sk-toggleable__control:checked~div.sk-toggleable__content {max-height: 200px;max-width: 100%;overflow: auto;}#sk-be3c99df-d0da-42ed-a1d5-760615e8a987 div.sk-estimator input.sk-toggleable__control:checked~label.sk-toggleable__label {background-color: #d4ebff;}#sk-be3c99df-d0da-42ed-a1d5-760615e8a987 div.sk-label input.sk-toggleable__control:checked~label.sk-toggleable__label {background-color: #d4ebff;}#sk-be3c99df-d0da-42ed-a1d5-760615e8a987 input.sk-hidden--visually {border: 0;clip: rect(1px 1px 1px 1px);clip: rect(1px, 1px, 1px, 1px);height: 1px;margin: -1px;overflow: hidden;padding: 0;position: absolute;width: 1px;}#sk-be3c99df-d0da-42ed-a1d5-760615e8a987 div.sk-estimator {font-family: monospace;background-color: #f0f8ff;border: 1px dotted black;border-radius: 0.25em;box-sizing: border-box;margin-bottom: 0.5em;}#sk-be3c99df-d0da-42ed-a1d5-760615e8a987 div.sk-estimator:hover {background-color: #d4ebff;}#sk-be3c99df-d0da-42ed-a1d5-760615e8a987 div.sk-parallel-item::after {content: \"\";width: 100%;border-bottom: 1px solid gray;flex-grow: 1;}#sk-be3c99df-d0da-42ed-a1d5-760615e8a987 div.sk-label:hover label.sk-toggleable__label {background-color: #d4ebff;}#sk-be3c99df-d0da-42ed-a1d5-760615e8a987 div.sk-serial::before {content: \"\";position: absolute;border-left: 1px solid gray;box-sizing: border-box;top: 2em;bottom: 0;left: 50%;}#sk-be3c99df-d0da-42ed-a1d5-760615e8a987 div.sk-serial {display: flex;flex-direction: column;align-items: center;background-color: white;padding-right: 0.2em;padding-left: 0.2em;}#sk-be3c99df-d0da-42ed-a1d5-760615e8a987 div.sk-item {z-index: 1;}#sk-be3c99df-d0da-42ed-a1d5-760615e8a987 div.sk-parallel {display: flex;align-items: stretch;justify-content: center;background-color: white;}#sk-be3c99df-d0da-42ed-a1d5-760615e8a987 div.sk-parallel::before {content: \"\";position: absolute;border-left: 1px solid gray;box-sizing: border-box;top: 2em;bottom: 0;left: 50%;}#sk-be3c99df-d0da-42ed-a1d5-760615e8a987 div.sk-parallel-item {display: flex;flex-direction: column;position: relative;background-color: white;}#sk-be3c99df-d0da-42ed-a1d5-760615e8a987 div.sk-parallel-item:first-child::after {align-self: flex-end;width: 50%;}#sk-be3c99df-d0da-42ed-a1d5-760615e8a987 div.sk-parallel-item:last-child::after {align-self: flex-start;width: 50%;}#sk-be3c99df-d0da-42ed-a1d5-760615e8a987 div.sk-parallel-item:only-child::after {width: 0;}#sk-be3c99df-d0da-42ed-a1d5-760615e8a987 div.sk-dashed-wrapped {border: 1px dashed gray;margin: 0 0.4em 0.5em 0.4em;box-sizing: border-box;padding-bottom: 0.4em;background-color: white;position: relative;}#sk-be3c99df-d0da-42ed-a1d5-760615e8a987 div.sk-label label {font-family: monospace;font-weight: bold;background-color: white;display: inline-block;line-height: 1.2em;}#sk-be3c99df-d0da-42ed-a1d5-760615e8a987 div.sk-label-container {position: relative;z-index: 2;text-align: center;}#sk-be3c99df-d0da-42ed-a1d5-760615e8a987 div.sk-container {display: inline-block;position: relative;}</style><div id=\"sk-be3c99df-d0da-42ed-a1d5-760615e8a987\" class\"sk-top-container\"><div class=\"sk-container\"><div class=\"sk-item sk-dashed-wrapped\"><div class=\"sk-label-container\"><div class=\"sk-label sk-toggleable\"><input class=\"sk-toggleable__control sk-hidden--visually\" id=\"10bd8c4d-ed92-44a9-8ccc-70bd012f6d96\" type=\"checkbox\" ><label class=\"sk-toggleable__label\" for=\"10bd8c4d-ed92-44a9-8ccc-70bd012f6d96\">Pipeline</label><div class=\"sk-toggleable__content\"><pre>Pipeline(steps=[('columntransformer',\n",
       "                 ColumnTransformer(remainder='passthrough',\n",
       "                                   transformers=[('pipeline',\n",
       "                                                  Pipeline(steps=[('powertransformer',\n",
       "                                                                   PowerTransformer()),\n",
       "                                                                  ('robustscaler',\n",
       "                                                                   RobustScaler())]),\n",
       "                                                  Index(['Density', 'Age', 'Weight', 'Height', 'Neck', 'Chest', 'Abdomen', 'Hip',\n",
       "       'Thigh', 'Knee', 'Ankle', 'Biceps', 'Forearm', 'Wrist'],\n",
       "      dtype='object'))])),\n",
       "                ('selectkbest',\n",
       "                 SelectKBest(k=7,\n",
       "                             score_func=<function mutual_info_regression at 0x7f7ce1cfcca0>)),\n",
       "                ('kneighborsregressor', KNeighborsRegressor(n_jobs=-1))])</pre></div></div></div><div class=\"sk-serial\"><div class=\"sk-item sk-dashed-wrapped\"><div class=\"sk-label-container\"><div class=\"sk-label sk-toggleable\"><input class=\"sk-toggleable__control sk-hidden--visually\" id=\"b4a97a73-8209-4369-87ae-2a36e262d976\" type=\"checkbox\" ><label class=\"sk-toggleable__label\" for=\"b4a97a73-8209-4369-87ae-2a36e262d976\">columntransformer: ColumnTransformer</label><div class=\"sk-toggleable__content\"><pre>ColumnTransformer(remainder='passthrough',\n",
       "                  transformers=[('pipeline',\n",
       "                                 Pipeline(steps=[('powertransformer',\n",
       "                                                  PowerTransformer()),\n",
       "                                                 ('robustscaler',\n",
       "                                                  RobustScaler())]),\n",
       "                                 Index(['Density', 'Age', 'Weight', 'Height', 'Neck', 'Chest', 'Abdomen', 'Hip',\n",
       "       'Thigh', 'Knee', 'Ankle', 'Biceps', 'Forearm', 'Wrist'],\n",
       "      dtype='object'))])</pre></div></div></div><div class=\"sk-parallel\"><div class=\"sk-parallel-item\"><div class=\"sk-item\"><div class=\"sk-label-container\"><div class=\"sk-label sk-toggleable\"><input class=\"sk-toggleable__control sk-hidden--visually\" id=\"4d222dbc-d66e-4fa3-8cdb-15b408abe583\" type=\"checkbox\" ><label class=\"sk-toggleable__label\" for=\"4d222dbc-d66e-4fa3-8cdb-15b408abe583\">pipeline</label><div class=\"sk-toggleable__content\"><pre>Index(['Density', 'Age', 'Weight', 'Height', 'Neck', 'Chest', 'Abdomen', 'Hip',\n",
       "       'Thigh', 'Knee', 'Ankle', 'Biceps', 'Forearm', 'Wrist'],\n",
       "      dtype='object')</pre></div></div></div><div class=\"sk-serial\"><div class=\"sk-item\"><div class=\"sk-serial\"><div class=\"sk-item\"><div class=\"sk-estimator sk-toggleable\"><input class=\"sk-toggleable__control sk-hidden--visually\" id=\"bc2daee8-e428-43bc-bf8f-3e6949232d85\" type=\"checkbox\" ><label class=\"sk-toggleable__label\" for=\"bc2daee8-e428-43bc-bf8f-3e6949232d85\">PowerTransformer</label><div class=\"sk-toggleable__content\"><pre>PowerTransformer()</pre></div></div></div><div class=\"sk-item\"><div class=\"sk-estimator sk-toggleable\"><input class=\"sk-toggleable__control sk-hidden--visually\" id=\"917c9b95-51e2-484f-af84-a33d9ca50448\" type=\"checkbox\" ><label class=\"sk-toggleable__label\" for=\"917c9b95-51e2-484f-af84-a33d9ca50448\">RobustScaler</label><div class=\"sk-toggleable__content\"><pre>RobustScaler()</pre></div></div></div></div></div></div></div></div><div class=\"sk-parallel-item\"><div class=\"sk-item\"><div class=\"sk-label-container\"><div class=\"sk-label sk-toggleable\"><input class=\"sk-toggleable__control sk-hidden--visually\" id=\"bcf0de39-a9ba-4bde-8182-8b930d57f2e8\" type=\"checkbox\" ><label class=\"sk-toggleable__label\" for=\"bcf0de39-a9ba-4bde-8182-8b930d57f2e8\">remainder</label><div class=\"sk-toggleable__content\"><pre>[]</pre></div></div></div><div class=\"sk-serial\"><div class=\"sk-item\"><div class=\"sk-estimator sk-toggleable\"><input class=\"sk-toggleable__control sk-hidden--visually\" id=\"f6cf47b4-733c-4d3e-aa04-9431fc014d49\" type=\"checkbox\" ><label class=\"sk-toggleable__label\" for=\"f6cf47b4-733c-4d3e-aa04-9431fc014d49\">passthrough</label><div class=\"sk-toggleable__content\"><pre>passthrough</pre></div></div></div></div></div></div></div></div><div class=\"sk-item\"><div class=\"sk-estimator sk-toggleable\"><input class=\"sk-toggleable__control sk-hidden--visually\" id=\"fe9e39fc-d980-4c5a-afce-c6e32fb1b20c\" type=\"checkbox\" ><label class=\"sk-toggleable__label\" for=\"fe9e39fc-d980-4c5a-afce-c6e32fb1b20c\">SelectKBest</label><div class=\"sk-toggleable__content\"><pre>SelectKBest(k=7, score_func=<function mutual_info_regression at 0x7f7ce1cfcca0>)</pre></div></div></div><div class=\"sk-item\"><div class=\"sk-estimator sk-toggleable\"><input class=\"sk-toggleable__control sk-hidden--visually\" id=\"e679a770-e61d-4d76-8e94-34e74fe58f10\" type=\"checkbox\" ><label class=\"sk-toggleable__label\" for=\"e679a770-e61d-4d76-8e94-34e74fe58f10\">KNeighborsRegressor</label><div class=\"sk-toggleable__content\"><pre>KNeighborsRegressor(n_jobs=-1)</pre></div></div></div></div></div></div></div>"
      ],
      "text/plain": [
       "Pipeline(steps=[('columntransformer',\n",
       "                 ColumnTransformer(remainder='passthrough',\n",
       "                                   transformers=[('pipeline',\n",
       "                                                  Pipeline(steps=[('powertransformer',\n",
       "                                                                   PowerTransformer()),\n",
       "                                                                  ('robustscaler',\n",
       "                                                                   RobustScaler())]),\n",
       "                                                  Index(['Density', 'Age', 'Weight', 'Height', 'Neck', 'Chest', 'Abdomen', 'Hip',\n",
       "       'Thigh', 'Knee', 'Ankle', 'Biceps', 'Forearm', 'Wrist'],\n",
       "      dtype='object'))])),\n",
       "                ('selectkbest',\n",
       "                 SelectKBest(k=7,\n",
       "                             score_func=<function mutual_info_regression at 0x7f7ce1cfcca0>)),\n",
       "                ('kneighborsregressor', KNeighborsRegressor(n_jobs=-1))])"
      ]
     },
     "execution_count": 21,
     "metadata": {},
     "output_type": "execute_result"
    }
   ],
   "source": [
    "from sklearn.feature_selection import SelectKBest, f_regression, mutual_info_regression\n",
    "kbest = SelectKBest(score_func=mutual_info_regression, k=7)\n",
    "pipeline = make_pipeline(ct,kbest,knn,verbose=False)\n",
    "pipeline"
   ]
  },
  {
   "cell_type": "code",
   "execution_count": 23,
   "id": "2d956d27-60ad-41a9-a623-70bbef3d79b6",
   "metadata": {},
   "outputs": [
    {
     "name": "stdout",
     "output_type": "stream",
     "text": [
      "CV train RMSE: 2.144 (0.097)\n",
      "CV test RMSE: 2.609 (0.355)\n",
      "R Squared: 0.8248475596082594\n",
      "MAE: 2.8227450980392166\n",
      "RMSE: 3.589258484783206\n"
     ]
    }
   ],
   "source": [
    "scores = cross_validate(pipeline, x_train, y_train, scoring='neg_root_mean_squared_error', cv=kfold, n_jobs=-1,return_train_score=True)\n",
    "print('CV train RMSE: %.3f (%.3f)' % (np.abs(np.mean(scores['train_score'])), np.std(scores['train_score'])))\n",
    "print('CV test RMSE: %.3f (%.3f)' % (np.abs(np.mean(scores['test_score'])), np.std(scores['test_score'])))\n",
    "pipeline.fit(x_train,y_train)\n",
    "yhat = pipeline.predict(x_test)\n",
    "print('R Squared:', metrics.r2_score(y_test, yhat))\n",
    "print('MAE:', metrics.mean_absolute_error(y_test, yhat))\n",
    "print('RMSE:', metrics.mean_squared_error(y_test, yhat,squared=False))"
   ]
  },
  {
   "cell_type": "code",
   "execution_count": 24,
   "id": "437e7a63-338e-4353-b8e3-511789c1d514",
   "metadata": {},
   "outputs": [
    {
     "data": {
      "text/plain": [
       "['memory',\n",
       " 'steps',\n",
       " 'verbose',\n",
       " 'columntransformer',\n",
       " 'selectkbest',\n",
       " 'kneighborsregressor',\n",
       " 'columntransformer__n_jobs',\n",
       " 'columntransformer__remainder',\n",
       " 'columntransformer__sparse_threshold',\n",
       " 'columntransformer__transformer_weights',\n",
       " 'columntransformer__transformers',\n",
       " 'columntransformer__verbose',\n",
       " 'columntransformer__verbose_feature_names_out',\n",
       " 'columntransformer__pipeline',\n",
       " 'columntransformer__pipeline__memory',\n",
       " 'columntransformer__pipeline__steps',\n",
       " 'columntransformer__pipeline__verbose',\n",
       " 'columntransformer__pipeline__powertransformer',\n",
       " 'columntransformer__pipeline__robustscaler',\n",
       " 'columntransformer__pipeline__powertransformer__copy',\n",
       " 'columntransformer__pipeline__powertransformer__method',\n",
       " 'columntransformer__pipeline__powertransformer__standardize',\n",
       " 'columntransformer__pipeline__robustscaler__copy',\n",
       " 'columntransformer__pipeline__robustscaler__quantile_range',\n",
       " 'columntransformer__pipeline__robustscaler__unit_variance',\n",
       " 'columntransformer__pipeline__robustscaler__with_centering',\n",
       " 'columntransformer__pipeline__robustscaler__with_scaling',\n",
       " 'selectkbest__k',\n",
       " 'selectkbest__score_func',\n",
       " 'kneighborsregressor__algorithm',\n",
       " 'kneighborsregressor__leaf_size',\n",
       " 'kneighborsregressor__metric',\n",
       " 'kneighborsregressor__metric_params',\n",
       " 'kneighborsregressor__n_jobs',\n",
       " 'kneighborsregressor__n_neighbors',\n",
       " 'kneighborsregressor__p',\n",
       " 'kneighborsregressor__weights']"
      ]
     },
     "execution_count": 24,
     "metadata": {},
     "output_type": "execute_result"
    }
   ],
   "source": [
    "#I see the improvement now, then I'll do hyperparameter optimization for the pipeline\n",
    "#I must get the list of parameters first. I'll need to use those names\n",
    "list(pipeline.get_params().keys())"
   ]
  },
  {
   "cell_type": "code",
   "execution_count": 26,
   "id": "9bba9619-5115-41d9-af20-2b3a5fb7f198",
   "metadata": {},
   "outputs": [
    {
     "name": "stdout",
     "output_type": "stream",
     "text": [
      "CV train RMSE: 1.452 (0.049)\n",
      "CV test RMSE: 1.522 (0.497)\n",
      "{'selectkbest__k': 2, 'kneighborsregressor__n_neighbors': 15, 'kneighborsregressor__algorithm': 'auto', 'columntransformer__pipeline__robustscaler__quantile_range': (25, 75), 'columntransformer__pipeline__powertransformer__standardize': True}\n",
      "\n",
      "R Squared: 0.9013005525847242\n",
      "MAE: 1.6790849673202615\n",
      "RMSE: 2.694349934330627\n"
     ]
    }
   ],
   "source": [
    "#I prefer to use random search than grid search because grid search is going to take way longer\n",
    "from sklearn.model_selection import RandomizedSearchCV\n",
    "params = {}\n",
    "params['columntransformer__pipeline__powertransformer__standardize'] = [True,False]\n",
    "params['columntransformer__pipeline__robustscaler__quantile_range'] = [(25, 75),(15,85),(10,90)]\n",
    "params['selectkbest__k'] = np.arange(2,14,1)\n",
    "params['kneighborsregressor__n_neighbors'] = np.arange(3,20,1)\n",
    "params['kneighborsregressor__algorithm'] = ['auto', 'ball_tree','kd_tree', 'brute']\n",
    "\n",
    "cv_inner = KFold(n_splits=10, shuffle=True, random_state=1)\n",
    "cv_outer = KFold(n_splits=10,shuffle=True, random_state=1)\n",
    "\n",
    "grid = RandomizedSearchCV(pipeline, params, scoring='neg_root_mean_squared_error', cv=cv_inner, n_jobs=-1,verbose = 0,n_iter=10,random_state=1)\n",
    "scores = cross_validate(grid,x_train, y_train, cv=cv_outer, scoring='neg_root_mean_squared_error',n_jobs=-1,return_train_score=True,return_estimator=False,verbose = 0)\n",
    "print('CV train RMSE: %.3f (%.3f)' % (np.abs(np.mean(scores['train_score'])), np.std(scores['train_score'])))\n",
    "print('CV test RMSE: %.3f (%.3f)' % (np.abs(np.mean(scores['test_score'])), np.std(scores['test_score'])))\n",
    "\n",
    "grid.fit(x_train,y_train)\n",
    "print(grid.best_params_)\n",
    "yhat = grid.predict(x_test)\n",
    "print('\\nR Squared:', metrics.r2_score(y_test, yhat))\n",
    "print('MAE:', metrics.mean_absolute_error(y_test, yhat))\n",
    "print('RMSE:', metrics.mean_squared_error(y_test, yhat,squared=False))"
   ]
  },
  {
   "cell_type": "code",
   "execution_count": null,
   "id": "26b327bc-cc96-475c-9abe-9033cfe141e3",
   "metadata": {},
   "outputs": [],
   "source": [
    "#It's a pretty good result"
   ]
  },
  {
   "cell_type": "code",
   "execution_count": null,
   "id": "f806dc9a-65c2-4e64-901e-8cf0edf0854a",
   "metadata": {},
   "outputs": [],
   "source": []
  },
  {
   "cell_type": "code",
   "execution_count": null,
   "id": "eff18459-c923-4b59-a4ee-0058ce4ea3c7",
   "metadata": {},
   "outputs": [],
   "source": [
    "#How about let me try another algorithm include hyperparameter optimization"
   ]
  },
  {
   "cell_type": "code",
   "execution_count": 27,
   "id": "a77b07f8-8ef4-4451-8645-5adfdd8753cb",
   "metadata": {},
   "outputs": [
    {
     "data": {
      "text/html": [
       "<style>#sk-867ec136-71d6-49d0-ac05-1ff17e6751a4 {color: black;background-color: white;}#sk-867ec136-71d6-49d0-ac05-1ff17e6751a4 pre{padding: 0;}#sk-867ec136-71d6-49d0-ac05-1ff17e6751a4 div.sk-toggleable {background-color: white;}#sk-867ec136-71d6-49d0-ac05-1ff17e6751a4 label.sk-toggleable__label {cursor: pointer;display: block;width: 100%;margin-bottom: 0;padding: 0.3em;box-sizing: border-box;text-align: center;}#sk-867ec136-71d6-49d0-ac05-1ff17e6751a4 div.sk-toggleable__content {max-height: 0;max-width: 0;overflow: hidden;text-align: left;background-color: #f0f8ff;}#sk-867ec136-71d6-49d0-ac05-1ff17e6751a4 div.sk-toggleable__content pre {margin: 0.2em;color: black;border-radius: 0.25em;background-color: #f0f8ff;}#sk-867ec136-71d6-49d0-ac05-1ff17e6751a4 input.sk-toggleable__control:checked~div.sk-toggleable__content {max-height: 200px;max-width: 100%;overflow: auto;}#sk-867ec136-71d6-49d0-ac05-1ff17e6751a4 div.sk-estimator input.sk-toggleable__control:checked~label.sk-toggleable__label {background-color: #d4ebff;}#sk-867ec136-71d6-49d0-ac05-1ff17e6751a4 div.sk-label input.sk-toggleable__control:checked~label.sk-toggleable__label {background-color: #d4ebff;}#sk-867ec136-71d6-49d0-ac05-1ff17e6751a4 input.sk-hidden--visually {border: 0;clip: rect(1px 1px 1px 1px);clip: rect(1px, 1px, 1px, 1px);height: 1px;margin: -1px;overflow: hidden;padding: 0;position: absolute;width: 1px;}#sk-867ec136-71d6-49d0-ac05-1ff17e6751a4 div.sk-estimator {font-family: monospace;background-color: #f0f8ff;border: 1px dotted black;border-radius: 0.25em;box-sizing: border-box;margin-bottom: 0.5em;}#sk-867ec136-71d6-49d0-ac05-1ff17e6751a4 div.sk-estimator:hover {background-color: #d4ebff;}#sk-867ec136-71d6-49d0-ac05-1ff17e6751a4 div.sk-parallel-item::after {content: \"\";width: 100%;border-bottom: 1px solid gray;flex-grow: 1;}#sk-867ec136-71d6-49d0-ac05-1ff17e6751a4 div.sk-label:hover label.sk-toggleable__label {background-color: #d4ebff;}#sk-867ec136-71d6-49d0-ac05-1ff17e6751a4 div.sk-serial::before {content: \"\";position: absolute;border-left: 1px solid gray;box-sizing: border-box;top: 2em;bottom: 0;left: 50%;}#sk-867ec136-71d6-49d0-ac05-1ff17e6751a4 div.sk-serial {display: flex;flex-direction: column;align-items: center;background-color: white;padding-right: 0.2em;padding-left: 0.2em;}#sk-867ec136-71d6-49d0-ac05-1ff17e6751a4 div.sk-item {z-index: 1;}#sk-867ec136-71d6-49d0-ac05-1ff17e6751a4 div.sk-parallel {display: flex;align-items: stretch;justify-content: center;background-color: white;}#sk-867ec136-71d6-49d0-ac05-1ff17e6751a4 div.sk-parallel::before {content: \"\";position: absolute;border-left: 1px solid gray;box-sizing: border-box;top: 2em;bottom: 0;left: 50%;}#sk-867ec136-71d6-49d0-ac05-1ff17e6751a4 div.sk-parallel-item {display: flex;flex-direction: column;position: relative;background-color: white;}#sk-867ec136-71d6-49d0-ac05-1ff17e6751a4 div.sk-parallel-item:first-child::after {align-self: flex-end;width: 50%;}#sk-867ec136-71d6-49d0-ac05-1ff17e6751a4 div.sk-parallel-item:last-child::after {align-self: flex-start;width: 50%;}#sk-867ec136-71d6-49d0-ac05-1ff17e6751a4 div.sk-parallel-item:only-child::after {width: 0;}#sk-867ec136-71d6-49d0-ac05-1ff17e6751a4 div.sk-dashed-wrapped {border: 1px dashed gray;margin: 0 0.4em 0.5em 0.4em;box-sizing: border-box;padding-bottom: 0.4em;background-color: white;position: relative;}#sk-867ec136-71d6-49d0-ac05-1ff17e6751a4 div.sk-label label {font-family: monospace;font-weight: bold;background-color: white;display: inline-block;line-height: 1.2em;}#sk-867ec136-71d6-49d0-ac05-1ff17e6751a4 div.sk-label-container {position: relative;z-index: 2;text-align: center;}#sk-867ec136-71d6-49d0-ac05-1ff17e6751a4 div.sk-container {display: inline-block;position: relative;}</style><div id=\"sk-867ec136-71d6-49d0-ac05-1ff17e6751a4\" class\"sk-top-container\"><div class=\"sk-container\"><div class=\"sk-item sk-dashed-wrapped\"><div class=\"sk-label-container\"><div class=\"sk-label sk-toggleable\"><input class=\"sk-toggleable__control sk-hidden--visually\" id=\"65a568e7-5d6c-4a1b-bc7d-f337f41a97c7\" type=\"checkbox\" ><label class=\"sk-toggleable__label\" for=\"65a568e7-5d6c-4a1b-bc7d-f337f41a97c7\">Pipeline</label><div class=\"sk-toggleable__content\"><pre>Pipeline(steps=[('columntransformer',\n",
       "                 ColumnTransformer(remainder='passthrough',\n",
       "                                   transformers=[('pipeline',\n",
       "                                                  Pipeline(steps=[('powertransformer',\n",
       "                                                                   PowerTransformer()),\n",
       "                                                                  ('robustscaler',\n",
       "                                                                   RobustScaler())]),\n",
       "                                                  Index(['Density', 'Age', 'Weight', 'Height', 'Neck', 'Chest', 'Abdomen', 'Hip',\n",
       "       'Thigh', 'Knee', 'Ankle', 'Biceps', 'Forearm', 'Wrist'],\n",
       "      dtype='object'))])),\n",
       "                ('selectkbest',\n",
       "                 SelectKBest(k=7,\n",
       "                             score_func=<function mutual_info_regression at 0x7f7ce1cfcca0>)),\n",
       "                ('gaussianprocessregressor',\n",
       "                 GaussianProcessRegressor(random_state=1))])</pre></div></div></div><div class=\"sk-serial\"><div class=\"sk-item sk-dashed-wrapped\"><div class=\"sk-label-container\"><div class=\"sk-label sk-toggleable\"><input class=\"sk-toggleable__control sk-hidden--visually\" id=\"e99bd2f1-cbe1-4038-8361-eead598f0484\" type=\"checkbox\" ><label class=\"sk-toggleable__label\" for=\"e99bd2f1-cbe1-4038-8361-eead598f0484\">columntransformer: ColumnTransformer</label><div class=\"sk-toggleable__content\"><pre>ColumnTransformer(remainder='passthrough',\n",
       "                  transformers=[('pipeline',\n",
       "                                 Pipeline(steps=[('powertransformer',\n",
       "                                                  PowerTransformer()),\n",
       "                                                 ('robustscaler',\n",
       "                                                  RobustScaler())]),\n",
       "                                 Index(['Density', 'Age', 'Weight', 'Height', 'Neck', 'Chest', 'Abdomen', 'Hip',\n",
       "       'Thigh', 'Knee', 'Ankle', 'Biceps', 'Forearm', 'Wrist'],\n",
       "      dtype='object'))])</pre></div></div></div><div class=\"sk-parallel\"><div class=\"sk-parallel-item\"><div class=\"sk-item\"><div class=\"sk-label-container\"><div class=\"sk-label sk-toggleable\"><input class=\"sk-toggleable__control sk-hidden--visually\" id=\"406d0ecb-077f-4b63-a9c5-74d8bc268bce\" type=\"checkbox\" ><label class=\"sk-toggleable__label\" for=\"406d0ecb-077f-4b63-a9c5-74d8bc268bce\">pipeline</label><div class=\"sk-toggleable__content\"><pre>Index(['Density', 'Age', 'Weight', 'Height', 'Neck', 'Chest', 'Abdomen', 'Hip',\n",
       "       'Thigh', 'Knee', 'Ankle', 'Biceps', 'Forearm', 'Wrist'],\n",
       "      dtype='object')</pre></div></div></div><div class=\"sk-serial\"><div class=\"sk-item\"><div class=\"sk-serial\"><div class=\"sk-item\"><div class=\"sk-estimator sk-toggleable\"><input class=\"sk-toggleable__control sk-hidden--visually\" id=\"29b15260-4408-41af-8c25-8cb8f29c0191\" type=\"checkbox\" ><label class=\"sk-toggleable__label\" for=\"29b15260-4408-41af-8c25-8cb8f29c0191\">PowerTransformer</label><div class=\"sk-toggleable__content\"><pre>PowerTransformer()</pre></div></div></div><div class=\"sk-item\"><div class=\"sk-estimator sk-toggleable\"><input class=\"sk-toggleable__control sk-hidden--visually\" id=\"3389da3d-f987-44f0-b360-ff1a63d3e799\" type=\"checkbox\" ><label class=\"sk-toggleable__label\" for=\"3389da3d-f987-44f0-b360-ff1a63d3e799\">RobustScaler</label><div class=\"sk-toggleable__content\"><pre>RobustScaler()</pre></div></div></div></div></div></div></div></div><div class=\"sk-parallel-item\"><div class=\"sk-item\"><div class=\"sk-label-container\"><div class=\"sk-label sk-toggleable\"><input class=\"sk-toggleable__control sk-hidden--visually\" id=\"6292a60f-3b92-45a0-8f26-d3a493a6b948\" type=\"checkbox\" ><label class=\"sk-toggleable__label\" for=\"6292a60f-3b92-45a0-8f26-d3a493a6b948\">remainder</label><div class=\"sk-toggleable__content\"><pre></pre></div></div></div><div class=\"sk-serial\"><div class=\"sk-item\"><div class=\"sk-estimator sk-toggleable\"><input class=\"sk-toggleable__control sk-hidden--visually\" id=\"76b147dc-a264-40db-ab0e-00bcd0847b51\" type=\"checkbox\" ><label class=\"sk-toggleable__label\" for=\"76b147dc-a264-40db-ab0e-00bcd0847b51\">passthrough</label><div class=\"sk-toggleable__content\"><pre>passthrough</pre></div></div></div></div></div></div></div></div><div class=\"sk-item\"><div class=\"sk-estimator sk-toggleable\"><input class=\"sk-toggleable__control sk-hidden--visually\" id=\"d3ad6a55-ee77-446e-a9b2-1413221ea4ba\" type=\"checkbox\" ><label class=\"sk-toggleable__label\" for=\"d3ad6a55-ee77-446e-a9b2-1413221ea4ba\">SelectKBest</label><div class=\"sk-toggleable__content\"><pre>SelectKBest(k=7, score_func=<function mutual_info_regression at 0x7f7ce1cfcca0>)</pre></div></div></div><div class=\"sk-item\"><div class=\"sk-estimator sk-toggleable\"><input class=\"sk-toggleable__control sk-hidden--visually\" id=\"eedaca22-b91e-4d2d-b25d-ca9c42ad77ac\" type=\"checkbox\" ><label class=\"sk-toggleable__label\" for=\"eedaca22-b91e-4d2d-b25d-ca9c42ad77ac\">GaussianProcessRegressor</label><div class=\"sk-toggleable__content\"><pre>GaussianProcessRegressor(random_state=1)</pre></div></div></div></div></div></div></div>"
      ],
      "text/plain": [
       "Pipeline(steps=[('columntransformer',\n",
       "                 ColumnTransformer(remainder='passthrough',\n",
       "                                   transformers=[('pipeline',\n",
       "                                                  Pipeline(steps=[('powertransformer',\n",
       "                                                                   PowerTransformer()),\n",
       "                                                                  ('robustscaler',\n",
       "                                                                   RobustScaler())]),\n",
       "                                                  Index(['Density', 'Age', 'Weight', 'Height', 'Neck', 'Chest', 'Abdomen', 'Hip',\n",
       "       'Thigh', 'Knee', 'Ankle', 'Biceps', 'Forearm', 'Wrist'],\n",
       "      dtype='object'))])),\n",
       "                ('selectkbest',\n",
       "                 SelectKBest(k=7,\n",
       "                             score_func=<function mutual_info_regression at 0x7f7ce1cfcca0>)),\n",
       "                ('gaussianprocessregressor',\n",
       "                 GaussianProcessRegressor(random_state=1))])"
      ]
     },
     "execution_count": 27,
     "metadata": {},
     "output_type": "execute_result"
    }
   ],
   "source": [
    "from sklearn.gaussian_process import GaussianProcessRegressor\n",
    "power = PowerTransformer(method='yeo-johnson')\n",
    "rob = RobustScaler(quantile_range=(25.0, 75.0))\n",
    "ct = make_column_transformer((make_pipeline(power,rob),numcol),remainder='passthrough')\n",
    "gau = GaussianProcessRegressor(random_state=1)\n",
    "kbest = SelectKBest(score_func=mutual_info_regression, k=7)\n",
    "\n",
    "pipeline = make_pipeline(ct,kbest,gau,verbose=False)\n",
    "pipeline"
   ]
  },
  {
   "cell_type": "code",
   "execution_count": 28,
   "id": "51088abb-6b42-4383-81d2-8224d159c4e3",
   "metadata": {},
   "outputs": [
    {
     "name": "stdout",
     "output_type": "stream",
     "text": [
      "CV train RMSE: 1.452 (0.049)\n",
      "CV test RMSE: 1.522 (0.497)\n",
      "R Squared: -0.6498865247936618\n",
      "MAE: 6.313762984587958\n",
      "RMSE: 11.015993655102148\n"
     ]
    }
   ],
   "source": [
    "#let me see without any optimization, what performance will I get\n",
    "cores = cross_validate(pipeline, x_train, y_train, scoring='neg_root_mean_squared_error', cv=kfold, n_jobs=-1,return_train_score=True)\n",
    "print('CV train RMSE: %.3f (%.3f)' % (np.abs(np.mean(scores['train_score'])), np.std(scores['train_score'])))\n",
    "print('CV test RMSE: %.3f (%.3f)' % (np.abs(np.mean(scores['test_score'])), np.std(scores['test_score'])))\n",
    "pipeline.fit(x_train,y_train)\n",
    "yhat = pipeline.predict(x_test)\n",
    "print('R Squared:', metrics.r2_score(y_test, yhat))\n",
    "print('MAE:', metrics.mean_absolute_error(y_test, yhat))\n",
    "print('RMSE:', metrics.mean_squared_error(y_test, yhat,squared=False))"
   ]
  },
  {
   "cell_type": "code",
   "execution_count": 29,
   "id": "13c36b3e-7ff7-49fe-b16b-55c7edab0cef",
   "metadata": {},
   "outputs": [
    {
     "data": {
      "text/plain": [
       "['memory',\n",
       " 'steps',\n",
       " 'verbose',\n",
       " 'columntransformer',\n",
       " 'selectkbest',\n",
       " 'gaussianprocessregressor',\n",
       " 'columntransformer__n_jobs',\n",
       " 'columntransformer__remainder',\n",
       " 'columntransformer__sparse_threshold',\n",
       " 'columntransformer__transformer_weights',\n",
       " 'columntransformer__transformers',\n",
       " 'columntransformer__verbose',\n",
       " 'columntransformer__verbose_feature_names_out',\n",
       " 'columntransformer__pipeline',\n",
       " 'columntransformer__pipeline__memory',\n",
       " 'columntransformer__pipeline__steps',\n",
       " 'columntransformer__pipeline__verbose',\n",
       " 'columntransformer__pipeline__powertransformer',\n",
       " 'columntransformer__pipeline__robustscaler',\n",
       " 'columntransformer__pipeline__powertransformer__copy',\n",
       " 'columntransformer__pipeline__powertransformer__method',\n",
       " 'columntransformer__pipeline__powertransformer__standardize',\n",
       " 'columntransformer__pipeline__robustscaler__copy',\n",
       " 'columntransformer__pipeline__robustscaler__quantile_range',\n",
       " 'columntransformer__pipeline__robustscaler__unit_variance',\n",
       " 'columntransformer__pipeline__robustscaler__with_centering',\n",
       " 'columntransformer__pipeline__robustscaler__with_scaling',\n",
       " 'selectkbest__k',\n",
       " 'selectkbest__score_func',\n",
       " 'gaussianprocessregressor__alpha',\n",
       " 'gaussianprocessregressor__copy_X_train',\n",
       " 'gaussianprocessregressor__kernel',\n",
       " 'gaussianprocessregressor__n_restarts_optimizer',\n",
       " 'gaussianprocessregressor__normalize_y',\n",
       " 'gaussianprocessregressor__optimizer',\n",
       " 'gaussianprocessregressor__random_state']"
      ]
     },
     "execution_count": 29,
     "metadata": {},
     "output_type": "execute_result"
    }
   ],
   "source": [
    "#I must get the list of parameters first. I'll need to use those names\n",
    "list(pipeline.get_params().keys())"
   ]
  },
  {
   "cell_type": "code",
   "execution_count": 31,
   "id": "f8229357-8bd4-4865-93a9-617ae13a22e7",
   "metadata": {},
   "outputs": [
    {
     "name": "stdout",
     "output_type": "stream",
     "text": [
      "CV train RMSE: 0.795 (0.130)\n",
      "CV test RMSE: 0.536 (0.652)\n",
      "{'selectkbest__k': 2, 'gaussianprocessregressor__normalize_y': False, 'gaussianprocessregressor__kernel': DotProduct(sigma_0=1), 'gaussianprocessregressor__copy_X_train': False, 'columntransformer__pipeline__robustscaler__quantile_range': (25, 75), 'columntransformer__pipeline__powertransformer__standardize': True}\n",
      "\n",
      "R Squared: 0.930613881090071\n",
      "MAE: 0.5721464386173324\n",
      "RMSE: 2.259086900952275\n"
     ]
    }
   ],
   "source": [
    "from sklearn.gaussian_process.kernels import DotProduct, WhiteKernel\n",
    "params = {}\n",
    "params['columntransformer__pipeline__powertransformer__standardize'] = [True,False]\n",
    "params['columntransformer__pipeline__robustscaler__quantile_range'] = [(25, 75),(15,85),(10,90)]\n",
    "params['selectkbest__k'] = np.arange(2,14,1)\n",
    "params['gaussianprocessregressor__copy_X_train'] = [True,False]\n",
    "params['gaussianprocessregressor__normalize_y'] = [True,False]\n",
    "params['gaussianprocessregressor__kernel'] = [DotProduct(),WhiteKernel(),DotProduct()+WhiteKernel()]\n",
    "\n",
    "cv_inner = KFold(n_splits=10, shuffle=True, random_state=1)\n",
    "cv_outer = KFold(n_splits=10,shuffle=True, random_state=1)\n",
    "\n",
    "grid = RandomizedSearchCV(pipeline, params, scoring='neg_root_mean_squared_error', cv=cv_inner, n_jobs=-1,verbose = 0,n_iter=10,random_state=1)\n",
    "scores = cross_validate(grid,x_train, y_train, cv=cv_outer, scoring='neg_root_mean_squared_error',n_jobs=-1,return_train_score=True,return_estimator=False,verbose = 0)\n",
    "print('CV train RMSE: %.3f (%.3f)' % (np.abs(np.mean(scores['train_score'])), np.std(scores['train_score'])))\n",
    "print('CV test RMSE: %.3f (%.3f)' % (np.abs(np.mean(scores['test_score'])), np.std(scores['test_score'])))\n",
    "\n",
    "grid.fit(x_train,y_train)\n",
    "print(grid.best_params_)\n",
    "yhat = grid.predict(x_test)\n",
    "print('\\nR Squared:', metrics.r2_score(y_test, yhat))\n",
    "print('MAE:', metrics.mean_absolute_error(y_test, yhat))\n",
    "print('RMSE:', metrics.mean_squared_error(y_test, yhat,squared=False))"
   ]
  },
  {
   "cell_type": "code",
   "execution_count": null,
   "id": "ba40db3a-d257-47ee-a764-0769c107b60a",
   "metadata": {},
   "outputs": [],
   "source": []
  },
  {
   "cell_type": "code",
   "execution_count": 32,
   "id": "4f7941a1-1a9f-4cb4-8797-448ce29755a5",
   "metadata": {},
   "outputs": [
    {
     "data": {
      "text/html": [
       "<div>\n",
       "<style scoped>\n",
       "    .dataframe tbody tr th:only-of-type {\n",
       "        vertical-align: middle;\n",
       "    }\n",
       "\n",
       "    .dataframe tbody tr th {\n",
       "        vertical-align: top;\n",
       "    }\n",
       "\n",
       "    .dataframe thead th {\n",
       "        text-align: right;\n",
       "    }\n",
       "</style>\n",
       "<table border=\"1\" class=\"dataframe\">\n",
       "  <thead>\n",
       "    <tr style=\"text-align: right;\">\n",
       "      <th></th>\n",
       "      <th>algorithm</th>\n",
       "      <th>CV test RMSE</th>\n",
       "      <th>test set R2</th>\n",
       "      <th>test set MAE</th>\n",
       "      <th>test set RMSE</th>\n",
       "    </tr>\n",
       "  </thead>\n",
       "  <tbody>\n",
       "    <tr>\n",
       "      <th>0</th>\n",
       "      <td>KNN</td>\n",
       "      <td>1.522</td>\n",
       "      <td>0.901</td>\n",
       "      <td>1.679</td>\n",
       "      <td>2.694</td>\n",
       "    </tr>\n",
       "    <tr>\n",
       "      <th>1</th>\n",
       "      <td>GPR</td>\n",
       "      <td>0.536</td>\n",
       "      <td>0.931</td>\n",
       "      <td>0.572</td>\n",
       "      <td>2.259</td>\n",
       "    </tr>\n",
       "  </tbody>\n",
       "</table>\n",
       "</div>"
      ],
      "text/plain": [
       "  algorithm  CV test RMSE  test set R2  test set MAE  test set RMSE\n",
       "0       KNN         1.522        0.901         1.679          2.694\n",
       "1       GPR         0.536        0.931         0.572          2.259"
      ]
     },
     "execution_count": 32,
     "metadata": {},
     "output_type": "execute_result"
    }
   ],
   "source": [
    "final = pd.DataFrame({'algorithm':['KNN','GPR'],'CV test RMSE':[1.522,0.536],\n",
    "                     'test set R2':[0.901,0.931],'test set MAE':[1.679,0.572],\n",
    "                     'test set RMSE':[2.694,2.259]})\n",
    "final"
   ]
  },
  {
   "cell_type": "code",
   "execution_count": null,
   "id": "b14c4607-e28f-4fe7-a5db-402f2d834e92",
   "metadata": {},
   "outputs": [],
   "source": [
    "'''Gaussian process regression is the winner here!'''"
   ]
  },
  {
   "cell_type": "code",
   "execution_count": null,
   "id": "6a8bf790-b395-4bfd-a6ae-4863033bb070",
   "metadata": {},
   "outputs": [],
   "source": []
  },
  {
   "cell_type": "code",
   "execution_count": 33,
   "id": "c33734ef-acd2-46a0-8481-44be8150a4a7",
   "metadata": {},
   "outputs": [
    {
     "data": {
      "text/plain": [
       "['GPR_model']"
      ]
     },
     "execution_count": 33,
     "metadata": {},
     "output_type": "execute_result"
    }
   ],
   "source": [
    "#Lastly, save the model to a file so it can be access in the future for prediction on new dataset\n",
    "import joblib\n",
    "joblib.dump(grid,'GPR_model')"
   ]
  },
  {
   "cell_type": "code",
   "execution_count": null,
   "id": "ff4a06a1-03d5-4dca-8b6f-e9f5fff668ab",
   "metadata": {},
   "outputs": [],
   "source": []
  }
 ],
 "metadata": {
  "kernelspec": {
   "display_name": "Python 3 (ipykernel)",
   "language": "python",
   "name": "python3"
  },
  "language_info": {
   "codemirror_mode": {
    "name": "ipython",
    "version": 3
   },
   "file_extension": ".py",
   "mimetype": "text/x-python",
   "name": "python",
   "nbconvert_exporter": "python",
   "pygments_lexer": "ipython3",
   "version": "3.8.11"
  }
 },
 "nbformat": 4,
 "nbformat_minor": 5
}
